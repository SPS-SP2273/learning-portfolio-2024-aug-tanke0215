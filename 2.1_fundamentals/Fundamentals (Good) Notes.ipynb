{
 "cells": [
  {
   "attachments": {},
   "cell_type": "markdown",
   "id": "123456",
   "metadata": {},
   "source": [
    "<div style=\"text-align:left;font-size:2em\"><span style=\"font-weight:bolder;font-size:1.25em\">SP2273 | Learning Portfolio</span><br><br><span style=\"font-weight:bold;color:darkred\">Fundamentals (Good) Notes</span></div>"
   ]
  },
  {
   "cell_type": "markdown",
   "id": "70875bc7-2b37-4e5f-91e9-0d4fb7f51733",
   "metadata": {},
   "source": [
    "# 1. There is more to if"
   ]
  },
  {
   "cell_type": "code",
   "execution_count": 14,
   "id": "18db5b70-0af4-430c-a99d-d970b4ccc211",
   "metadata": {},
   "outputs": [
    {
     "name": "stdout",
     "output_type": "stream",
     "text": [
      "Hello Batman!\n",
      "Hello Sidekick!\n",
      "Hello World!\n"
     ]
    }
   ],
   "source": [
    "def NameCheck(name):\n",
    "    if name == 'Batman':\n",
    "        print('Hello Batman!')\n",
    "    elif name == 'Robin':\n",
    "        print('Hello Sidekick!')\n",
    "    else:\n",
    "        print('Hello World!')\n",
    "\n",
    "NameCheck('Batman')\n",
    "NameCheck('Robin')\n",
    "NameCheck('Gotham')"
   ]
  },
  {
   "cell_type": "markdown",
   "id": "3f322201-9480-4414-afc6-11d2152025da",
   "metadata": {},
   "source": [
    "# 2. Asking questions"
   ]
  },
  {
   "cell_type": "code",
   "execution_count": 15,
   "id": "85ffb24d-9e23-4967-85eb-1e2dd3fabd38",
   "metadata": {},
   "outputs": [],
   "source": [
    "fruits = ['apple', 'banana', 'pineapple', 'jackfruit']\n",
    "vegetables = ['celery', 'potato', 'broccoli', 'kale']"
   ]
  },
  {
   "cell_type": "code",
   "execution_count": 16,
   "id": "84d6a2bb-8935-4c2d-ba4f-07e39f21392f",
   "metadata": {},
   "outputs": [
    {
     "data": {
      "text/plain": [
       "True"
      ]
     },
     "execution_count": 16,
     "metadata": {},
     "output_type": "execute_result"
    }
   ],
   "source": [
    "'apple' in fruits # Is apple in fruits?"
   ]
  },
  {
   "cell_type": "code",
   "execution_count": 17,
   "id": "34d38696-6be9-4f89-b01b-097894b0d434",
   "metadata": {},
   "outputs": [
    {
     "data": {
      "text/plain": [
       "False"
      ]
     },
     "execution_count": 17,
     "metadata": {},
     "output_type": "execute_result"
    }
   ],
   "source": [
    "'peach' in fruits"
   ]
  },
  {
   "cell_type": "code",
   "execution_count": 18,
   "id": "1f09796f-3f76-4196-b09b-ace243384ad8",
   "metadata": {},
   "outputs": [
    {
     "data": {
      "text/plain": [
       "True"
      ]
     },
     "execution_count": 18,
     "metadata": {},
     "output_type": "execute_result"
    }
   ],
   "source": [
    "'peach' not in fruits # Is peach not in fruits?"
   ]
  },
  {
   "cell_type": "code",
   "execution_count": 19,
   "id": "ec3bbebd-c571-44a4-9e6f-4f71110db6ed",
   "metadata": {},
   "outputs": [
    {
     "data": {
      "text/plain": [
       "True"
      ]
     },
     "execution_count": 19,
     "metadata": {},
     "output_type": "execute_result"
    }
   ],
   "source": [
    "#Is apple in fruits AND is celery in vegetables?\n",
    "('apple' in fruits) and ('celery' in vegetables)"
   ]
  },
  {
   "cell_type": "code",
   "execution_count": 20,
   "id": "fcbfef77-c37d-44e2-9132-317f6a600b4c",
   "metadata": {},
   "outputs": [
    {
     "data": {
      "text/plain": [
       "False"
      ]
     },
     "execution_count": 20,
     "metadata": {},
     "output_type": "execute_result"
    }
   ],
   "source": [
    "('apple' in fruits) and ('peach' in vegetables) "
   ]
  },
  {
   "cell_type": "code",
   "execution_count": 21,
   "id": "4d14978e-707b-4052-a1a1-7b2ba99a136b",
   "metadata": {},
   "outputs": [
    {
     "data": {
      "text/plain": [
       "True"
      ]
     },
     "execution_count": 21,
     "metadata": {},
     "output_type": "execute_result"
    }
   ],
   "source": [
    "#Is apple in fruits OR is celery in vegetables?\n",
    "('apple' in fruits) or ('celery' in vegetables)"
   ]
  },
  {
   "cell_type": "code",
   "execution_count": 22,
   "id": "d1fe215b-818a-4faf-8fda-3c1edb58ae04",
   "metadata": {},
   "outputs": [
    {
     "data": {
      "text/plain": [
       "True"
      ]
     },
     "execution_count": 22,
     "metadata": {},
     "output_type": "execute_result"
    }
   ],
   "source": [
    "('apple' in fruits) or ('peach' in vegetables)"
   ]
  },
  {
   "cell_type": "code",
   "execution_count": 23,
   "id": "ed225475-24ce-4ca8-ac27-f3232c7a4692",
   "metadata": {},
   "outputs": [
    {
     "data": {
      "text/plain": [
       "True"
      ]
     },
     "execution_count": 23,
     "metadata": {},
     "output_type": "execute_result"
    }
   ],
   "source": [
    "#Is 'app' in 'apple'?\n",
    "'app' in 'apple'"
   ]
  },
  {
   "cell_type": "markdown",
   "id": "a0bbac48-8875-4edc-b724-9884ef0e89f2",
   "metadata": {},
   "source": [
    "You can also compare values of the same types in Python."
   ]
  },
  {
   "cell_type": "code",
   "execution_count": 24,
   "id": "56e94b68-681d-46ca-90c5-a8ed621d97fe",
   "metadata": {},
   "outputs": [
    {
     "data": {
      "text/plain": [
       "False"
      ]
     },
     "execution_count": 24,
     "metadata": {},
     "output_type": "execute_result"
    }
   ],
   "source": [
    "3 > 10.5"
   ]
  },
  {
   "cell_type": "code",
   "execution_count": 25,
   "id": "bcc49c3e-9c3a-4dc1-94c9-6aed7abf25a9",
   "metadata": {},
   "outputs": [
    {
     "data": {
      "text/plain": [
       "False"
      ]
     },
     "execution_count": 25,
     "metadata": {},
     "output_type": "execute_result"
    }
   ],
   "source": [
    "'apples' > 'oranges'"
   ]
  },
  {
   "cell_type": "markdown",
   "id": "945897c1-aa63-4411-adfa-98512687e6f1",
   "metadata": {},
   "source": [
    "This works as English letters are internally represented as numbers e.g. a is 97 and o is 111"
   ]
  },
  {
   "cell_type": "code",
   "execution_count": 26,
   "id": "523a1ef3-e76e-4567-8aea-c1327e7756d8",
   "metadata": {},
   "outputs": [
    {
     "ename": "TypeError",
     "evalue": "'>' not supported between instances of 'int' and 'str'",
     "output_type": "error",
     "traceback": [
      "\u001b[0;31m---------------------------------------------------------------------------\u001b[0m",
      "\u001b[0;31mTypeError\u001b[0m                                 Traceback (most recent call last)",
      "Cell \u001b[0;32mIn[26], line 1\u001b[0m\n\u001b[0;32m----> 1\u001b[0m \u001b[38;5;241;43m3\u001b[39;49m\u001b[43m \u001b[49m\u001b[38;5;241;43m>\u001b[39;49m\u001b[43m \u001b[49m\u001b[38;5;124;43m'\u001b[39;49m\u001b[38;5;124;43mapple\u001b[39;49m\u001b[38;5;124;43m'\u001b[39;49m \u001b[38;5;66;03m# This does not work as the values are not of the same type\u001b[39;00m\n",
      "\u001b[0;31mTypeError\u001b[0m: '>' not supported between instances of 'int' and 'str'"
     ]
    }
   ],
   "source": [
    "3 > 'apple' # This does not work as the values are not of the same type"
   ]
  },
  {
   "cell_type": "markdown",
   "id": "12f2305f-04e0-473e-abba-2629f3750d90",
   "metadata": {},
   "source": [
    "# 2.1 Asking Math Questions"
   ]
  },
  {
   "cell_type": "markdown",
   "id": "b45996a9-e3d1-4fb3-b980-8eeba4d7f248",
   "metadata": {},
   "source": [
    "| Question/Condition     | Math Symbol | Python Symbol |\n",
    "|------------------------|-------------|---------------|\n",
    "| Equals?                |      =      |       ==      |\n",
    "| Not equal?             |      ≠      |       !=      |\n",
    "| Less than?             |      <      |       <       |\n",
    "| Greater than?          |      >      |       >       |\n",
    "| Less than or equal?    |      ≤      |       <=      |\n",
    "| Greater than or equal? |      ≥      |       >=      |"
   ]
  },
  {
   "cell_type": "markdown",
   "id": "49752f78-1557-4bde-b6f2-615b56c3160a",
   "metadata": {},
   "source": [
    "# 3. Python stores information in different formats or types"
   ]
  },
  {
   "cell_type": "code",
   "execution_count": null,
   "id": "98637c20-93e6-4176-801d-e63cff2b3fe4",
   "metadata": {},
   "outputs": [
    {
     "name": "stdout",
     "output_type": "stream",
     "text": [
      "1 <class 'int'>\n"
     ]
    }
   ],
   "source": [
    "x = int(1.234) # This rounds x into an integer\n",
    "print(x, type(x)) "
   ]
  },
  {
   "cell_type": "code",
   "execution_count": null,
   "id": "3a16ab9b-ca6d-493e-b5a2-1118c3eb34f1",
   "metadata": {},
   "outputs": [
    {
     "name": "stdout",
     "output_type": "stream",
     "text": [
      "1.234 <class 'str'>\n",
      "1.234 <class 'str'>\n"
     ]
    }
   ],
   "source": [
    "x = str(1.234) # This makes x a string\n",
    "print(x, type(x)) \n",
    "\n",
    "x = '1.234' # This also makes x a sring\n",
    "print(x, type(x)) "
   ]
  },
  {
   "cell_type": "code",
   "execution_count": null,
   "id": "a44b3b66-5c2b-4e24-9f08-d59b89f7935d",
   "metadata": {},
   "outputs": [
    {
     "name": "stdout",
     "output_type": "stream",
     "text": [
      "1.234 <class 'str'>\n"
     ]
    }
   ],
   "source": [
    "x = str(1.234) # This makes x a float\n",
    "print(x, type(x)) "
   ]
  },
  {
   "cell_type": "code",
   "execution_count": null,
   "id": "3a95046e-d962-4d12-95d8-bb63011f63dc",
   "metadata": {},
   "outputs": [
    {
     "name": "stdout",
     "output_type": "stream",
     "text": [
      "(1.234+0j) <class 'complex'>\n"
     ]
    }
   ],
   "source": [
    "x = complex(1.234) # This makes x complex\n",
    "print(x, type(x))"
   ]
  },
  {
   "cell_type": "markdown",
   "id": "9992906c-8564-4ea3-943c-7df5d7474e2f",
   "metadata": {},
   "source": [
    "# 4. Never compare floats directly\n",
    "When you need to compare numbers, especially for scientific work, sometimes roundoff errors occur. This is because computers have finite hardware resources, so floating point numbers cannot be stored exactly in a computer."
   ]
  },
  {
   "cell_type": "code",
   "execution_count": null,
   "id": "58bdad68-9699-417a-9ca8-f3cb49b503d9",
   "metadata": {},
   "outputs": [
    {
     "data": {
      "text/plain": [
       "False"
      ]
     },
     "execution_count": 1,
     "metadata": {},
     "output_type": "execute_result"
    }
   ],
   "source": [
    "a = 0.1\n",
    "a3 = 0.3\n",
    "a * 3 == a3"
   ]
  },
  {
   "cell_type": "markdown",
   "id": "fbef5aae-0585-46f8-b71d-bd0b15e9a5b2",
   "metadata": {},
   "source": [
    "Another example of this roundoff error is printing 0.3 to 17 d.p."
   ]
  },
  {
   "cell_type": "code",
   "execution_count": null,
   "id": "8fb3dbd7-cbae-4c99-91a8-de86559053df",
   "metadata": {},
   "outputs": [
    {
     "data": {
      "text/plain": [
       "'0.29999999999999999'"
      ]
     },
     "execution_count": 2,
     "metadata": {},
     "output_type": "execute_result"
    }
   ],
   "source": [
    "f'{0.3:.17f}'"
   ]
  },
  {
   "cell_type": "markdown",
   "id": "5823ebc2-db92-4c53-8bdf-d58d7d002b0d",
   "metadata": {},
   "source": [
    "To solve this issue, we should check whether or not the variable is close to the expected values instead of checking for equality."
   ]
  },
  {
   "cell_type": "code",
   "execution_count": null,
   "id": "3933d6cf-58d0-45ea-acf0-3bd4d9a89c34",
   "metadata": {},
   "outputs": [
    {
     "data": {
      "text/plain": [
       "True"
      ]
     },
     "execution_count": 5,
     "metadata": {},
     "output_type": "execute_result"
    }
   ],
   "source": [
    "eps = 1E-10\n",
    "abs(a * 3 - a3) < eps\n",
    "\n",
    "import numpy as np\n",
    "np.isclose(a * 3, a3)"
   ]
  },
  {
   "cell_type": "markdown",
   "id": "b4092229-3139-4139-85e1-1208fa23e5dc",
   "metadata": {},
   "source": [
    "# 5. Combining English and variables\n",
    "We can combine strings with variables seamlessly using f-strings. This is useful when, for example, you are automating personalized emails to a large class."
   ]
  },
  {
   "cell_type": "code",
   "execution_count": null,
   "id": "f9797e08-2afd-4cf0-8b03-fcd1fe4e8c9d",
   "metadata": {},
   "outputs": [
    {
     "name": "stdout",
     "output_type": "stream",
     "text": [
      "Hello Batman!\n"
     ]
    }
   ],
   "source": [
    "name = \"Batman\"\n",
    "print(f\"Hello {name}!\")"
   ]
  },
  {
   "cell_type": "code",
   "execution_count": null,
   "id": "aef40caf-8700-4159-b626-0ce3ca541b20",
   "metadata": {},
   "outputs": [
    {
     "name": "stdout",
     "output_type": "stream",
     "text": [
      "Hello BATMAN!\n"
     ]
    }
   ],
   "source": [
    "name = \"Batman\"\n",
    "print(f\"Hello {name.upper()}!\")"
   ]
  },
  {
   "cell_type": "code",
   "execution_count": null,
   "id": "5fc47205-f259-43ef-b4c2-eadbdf05817e",
   "metadata": {},
   "outputs": [
    {
     "name": "stdout",
     "output_type": "stream",
     "text": [
      "The value of 10 squared is 100!\n"
     ]
    }
   ],
   "source": [
    "x = 10\n",
    "print(f\"The value of {x} squared is {x**2}!\")"
   ]
  },
  {
   "cell_type": "code",
   "execution_count": null,
   "id": "8ee64002-524f-43cb-8f2c-3f916b98f576",
   "metadata": {},
   "outputs": [
    {
     "name": "stdout",
     "output_type": "stream",
     "text": [
      "Bruce Wayne is Batman.\n"
     ]
    }
   ],
   "source": [
    "text = 'Bruce Wayne is Batman.'\n",
    "print(f'{text}')"
   ]
  },
  {
   "cell_type": "code",
   "execution_count": null,
   "id": "8343d8d7-5bdc-4659-88f7-90cea1588657",
   "metadata": {},
   "outputs": [
    {
     "name": "stdout",
     "output_type": "stream",
     "text": [
      "        Bruce Wayne is Batman.\n"
     ]
    }
   ],
   "source": [
    "print(f'{text:>30}')      # A block of 30 characters;\n",
    "                          # aligned right"
   ]
  },
  {
   "cell_type": "code",
   "execution_count": null,
   "id": "58cc1e1d-afdf-4dfc-b15d-d1cc56ed9efc",
   "metadata": {},
   "outputs": [
    {
     "name": "stdout",
     "output_type": "stream",
     "text": [
      "    Bruce Wayne is Batman.    \n"
     ]
    }
   ],
   "source": [
    "print(f'{text:^30}')      # A block of 30 characters;\n",
    "                          # aligned centre"
   ]
  },
  {
   "cell_type": "code",
   "execution_count": null,
   "id": "de8bf7a9-3bba-4968-955c-d347850657b1",
   "metadata": {},
   "outputs": [
    {
     "name": "stdout",
     "output_type": "stream",
     "text": [
      "Bruce Wayne is Batman.        \n"
     ]
    }
   ],
   "source": [
    "print(f'{text:<30}')      # A block of 30 characters;\n",
    "                          # aligned left"
   ]
  },
  {
   "cell_type": "markdown",
   "id": "c3d29595-b859-4a5d-8f67-0d1ecbdb5d20",
   "metadata": {},
   "source": [
    "To write a number to n decimal places, you use .{n}f. The f tells the f-string to output the number in decimal notation."
   ]
  },
  {
   "cell_type": "code",
   "execution_count": null,
   "id": "3bbcf730-bb3c-4fd4-be4e-f0564c48de3a",
   "metadata": {},
   "outputs": [
    {
     "name": "stdout",
     "output_type": "stream",
     "text": [
      "The cube of pi to 6 decimal places is 31.006277\n"
     ]
    }
   ],
   "source": [
    "print(f'The cube of pi to 6 decimal places is {np.pi**3:.6f}')"
   ]
  },
  {
   "cell_type": "markdown",
   "id": "a63efe57-2729-40cf-bf68-f8ffd45f7096",
   "metadata": {},
   "source": [
    "To write a number in scientific notation to n decimal places, use .{n}e The e tells the f-string to output the number in scientific notation."
   ]
  },
  {
   "cell_type": "code",
   "execution_count": null,
   "id": "541e406c-d003-4f64-9467-dd34c837e82b",
   "metadata": {},
   "outputs": [
    {
     "name": "stdout",
     "output_type": "stream",
     "text": [
      "The cube of pi to 6 decimal places is 3.100628e+01\n"
     ]
    }
   ],
   "source": [
    "print(f'The cube of pi to 6 decimal places is {np.pi**3:.6e}')"
   ]
  },
  {
   "cell_type": "markdown",
   "id": "6b047d7d-6a4f-4aaa-a387-bea285c566d9",
   "metadata": {},
   "source": [
    "# 6. Structure of f-strings"
   ]
  },
  {
   "cell_type": "markdown",
   "id": "05e84753-7fec-487e-80af-64cdbc7bff5b",
   "metadata": {},
   "source": [
    "f-string formatting has the structure {X:>0Y.ZW} \n",
    "- X\tis the variable to format\t(Can be a number or a string)\n",
    "- \\> is the alighment  ( < is left, ^ is center, > is right)\n",
    "- 0 is used to pad the spaces\n",
    "- Y is the total number of characters\n",
    "- Z is the number of decimal places\n",
    "- W is the type of variable ( f, d, s, g (asks Python to figure out))"
   ]
  },
  {
   "cell_type": "markdown",
   "id": "df886f31-7ae4-40bb-864c-00ad485f0354",
   "metadata": {},
   "source": [
    "# 7. Escape sequences\n",
    "An escape sequence is a combination of characters that has a meaning other than the literal characters contained within the sequence.\n",
    "\n",
    "An escape sequence in Python begins with \\.\n",
    "\n",
    "Some escape sequences include\n",
    "- \\\\' if you want to write print('You\\'re awesome!')\n",
    "- \\\\\\\\\\ for blackslash (important as \\ is the start of all escape sequences)\n",
    "- \\n for linebreaks\n",
    "- \\t for horizontal tabs."
   ]
  },
  {
   "cell_type": "code",
   "execution_count": null,
   "id": "29359897-395c-4fcf-91d7-69f31f030bdd",
   "metadata": {},
   "outputs": [
    {
     "name": "stdout",
     "output_type": "stream",
     "text": [
      "You're nineteen years old.\n"
     ]
    }
   ],
   "source": [
    "print(\"You're nineteen years old.\") "
   ]
  },
  {
   "cell_type": "code",
   "execution_count": null,
   "id": "80e82bb3-5261-43cc-ab7c-e5aaca3cca63",
   "metadata": {},
   "outputs": [
    {
     "name": "stdout",
     "output_type": "stream",
     "text": [
      "A\\B\\C\n"
     ]
    }
   ],
   "source": [
    "print('A\\\\B\\\\C')"
   ]
  },
  {
   "cell_type": "code",
   "execution_count": null,
   "id": "9e6d7ae4-3938-4d32-a3d3-de17b44bd822",
   "metadata": {},
   "outputs": [
    {
     "name": "stdout",
     "output_type": "stream",
     "text": [
      "A\\B\\C\n"
     ]
    }
   ],
   "source": [
    "print('A\\\\B\\\\C')"
   ]
  },
  {
   "cell_type": "code",
   "execution_count": null,
   "id": "d929f684-5eb9-4202-a188-66f0fcfa3106",
   "metadata": {},
   "outputs": [
    {
     "name": "stdout",
     "output_type": "stream",
     "text": [
      "A\tB\tC\n"
     ]
    }
   ],
   "source": [
    "print('A\\tB\\tC')"
   ]
  },
  {
   "cell_type": "markdown",
   "id": "9bdedf17-342b-4d13-b663-7fe34b1466d0",
   "metadata": {},
   "source": [
    "# 9. Shorter and Cleaner Code"
   ]
  },
  {
   "cell_type": "markdown",
   "id": "9a84ebbe-4556-456c-b899-866ef43a7d05",
   "metadata": {},
   "source": [
    "|                | Long form | Short form |\n",
    "|----------------|:---------:|:----------:|\n",
    "| Addition       | y = y + 2 |   y += 2   |\n",
    "| Subtraction    | y = y - 2 |   y -= 2   |\n",
    "| Division       | y = y / 2 |   y /= 2   |\n",
    "| Multiplication | y = y * 2 |   y *= 2   |"
   ]
  }
 ],
 "metadata": {
  "kernelspec": {
   "display_name": "Python 3 (ipykernel)",
   "language": "python",
   "name": "python3"
  },
  "language_info": {
   "codemirror_mode": {
    "name": "ipython",
    "version": 3
   },
   "file_extension": ".py",
   "mimetype": "text/x-python",
   "name": "python",
   "nbconvert_exporter": "python",
   "pygments_lexer": "ipython3",
   "version": "3.12.5"
  },
  "toc": {
   "base_numbering": 1,
   "nav_menu": {},
   "number_sections": true,
   "sideBar": true,
   "skip_h1_title": false,
   "title_cell": "Table of Contents",
   "title_sidebar": "Contents",
   "toc_cell": false,
   "toc_position": {},
   "toc_section_display": true,
   "toc_window_display": false
  },
  "vscode": {
   "interpreter": {
    "hash": "31f2aee4e71d21fbe5cf8b01ff0e069b9275f58929596ceb00d14d90e3e16cd6"
   }
  }
 },
 "nbformat": 4,
 "nbformat_minor": 5
}
