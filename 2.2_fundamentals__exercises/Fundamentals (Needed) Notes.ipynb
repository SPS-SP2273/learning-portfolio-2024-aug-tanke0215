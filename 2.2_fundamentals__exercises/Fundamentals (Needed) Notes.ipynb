{
 "cells": [
  {
   "attachments": {},
   "cell_type": "markdown",
   "id": "123456",
   "metadata": {},
   "source": [
    "<div style=\"text-align:left;font-size:2em\"><span style=\"font-weight:bolder;font-size:1.25em\">SP2273 | Learning Portfolio</span><br><br><span style=\"font-weight:bold;color:darkred\">Fundamentals (Need) Notes</span></div>"
   ]
  },
  {
   "cell_type": "markdown",
   "id": "75d3b2db-6f44-418a-8e74-5863d3da61dc",
   "metadata": {},
   "source": [
    "# 1. Functions\n",
    "Parentheses, (), always follow a function."
   ]
  },
  {
   "cell_type": "code",
   "execution_count": 1,
   "id": "6e6dcd00-30e9-4982-8c49-fa29e8790867",
   "metadata": {},
   "outputs": [
    {
     "name": "stdout",
     "output_type": "stream",
     "text": [
      "Hello world!\n"
     ]
    }
   ],
   "source": [
    "print('Hello world!')"
   ]
  },
  {
   "cell_type": "markdown",
   "id": "05efd794-8a2a-41fe-a612-25feef670334",
   "metadata": {},
   "source": [
    "# 2. Python is interpreted"
   ]
  },
  {
   "cell_type": "code",
   "execution_count": 2,
   "id": "ee85a35a-3773-46c8-9cb1-b8d8a36b1377",
   "metadata": {},
   "outputs": [
    {
     "name": "stdout",
     "output_type": "stream",
     "text": [
      "Hello World\n",
      "Hello World again\n"
     ]
    }
   ],
   "source": [
    "print('Hello World')\n",
    "print('Hello World again')"
   ]
  },
  {
   "cell_type": "markdown",
   "id": "d2905d7a-a536-415e-b1ff-83403193d7d4",
   "metadata": {},
   "source": [
    "# 3. Python is sensitive\n",
    "Python is case-sensitive, so Print() is different from print()."
   ]
  },
  {
   "cell_type": "code",
   "execution_count": 3,
   "id": "5b400fea-473e-4783-be16-7729d54d0c33",
   "metadata": {},
   "outputs": [
    {
     "name": "stdout",
     "output_type": "stream",
     "text": [
      "Hello World\n"
     ]
    },
    {
     "ename": "NameError",
     "evalue": "name 'Print' is not defined",
     "output_type": "error",
     "traceback": [
      "\u001b[0;31m---------------------------------------------------------------------------\u001b[0m",
      "\u001b[0;31mNameError\u001b[0m                                 Traceback (most recent call last)",
      "Cell \u001b[0;32mIn[3], line 2\u001b[0m\n\u001b[1;32m      1\u001b[0m \u001b[38;5;28mprint\u001b[39m(\u001b[38;5;124m'\u001b[39m\u001b[38;5;124mHello World\u001b[39m\u001b[38;5;124m'\u001b[39m)      \u001b[38;5;66;03m# This WILL work\u001b[39;00m\n\u001b[0;32m----> 2\u001b[0m \u001b[43mPrint\u001b[49m(\u001b[38;5;124m'\u001b[39m\u001b[38;5;124mHello World\u001b[39m\u001b[38;5;124m'\u001b[39m)      \u001b[38;5;66;03m# This will NOT work\u001b[39;00m\n",
      "\u001b[0;31mNameError\u001b[0m: name 'Print' is not defined"
     ]
    }
   ],
   "source": [
    "print('Hello World')      # This WILL work\n",
    "Print('Hello World')      # This will NOT work"
   ]
  },
  {
   "cell_type": "markdown",
   "id": "84d6d711-1d14-447d-98d9-66b2ce10c52c",
   "metadata": {},
   "source": [
    "# 4. Comments\n",
    "Python ignores all comments, anything between # and the end of the line makes up a comment. Comments should only be used when necessary."
   ]
  },
  {
   "cell_type": "code",
   "execution_count": null,
   "id": "c4d236d3-445d-46bd-a3e1-ac27d172c682",
   "metadata": {},
   "outputs": [
    {
     "name": "stdout",
     "output_type": "stream",
     "text": [
      "One\n",
      "Three\n"
     ]
    }
   ],
   "source": [
    "# This is a comment\n",
    "print('One')              # This is a comment.\n",
    "# print('Two')            # The interpreter ignores this line.\n",
    "print('Three')            # This is\n",
    "                          # also a way to\n",
    "                          # write comments"
   ]
  },
  {
   "cell_type": "markdown",
   "id": "0b16d9a8-54c1-4980-bd96-f03c279f2379",
   "metadata": {},
   "source": [
    "# 5. = is not the same as ==\n",
    "- = is used to set something equal.\n",
    "- == is used to check if something is equal (i.e., asking a question)."
   ]
  },
  {
   "cell_type": "code",
   "execution_count": null,
   "id": "ff76fbc4-7bc5-4a6c-9aec-b06d50a1355f",
   "metadata": {},
   "outputs": [],
   "source": [
    "name = 'Batman'"
   ]
  },
  {
   "cell_type": "code",
   "execution_count": null,
   "id": "58c5c9a0-ce21-403a-8340-128eb0e0c093",
   "metadata": {},
   "outputs": [
    {
     "data": {
      "text/plain": [
       "True"
      ]
     },
     "execution_count": 6,
     "metadata": {},
     "output_type": "execute_result"
    }
   ],
   "source": [
    "name == 'Batman'  # Tests if name is equal to 'Batman'"
   ]
  },
  {
   "cell_type": "markdown",
   "id": "cf70a7d9-495c-4ce2-ab6a-0f9c99cd5dd5",
   "metadata": {},
   "source": [
    "# 6. Use if to make decisions\n",
    "If statements are used to make decisions. They test whether or not some condition is true and then execute code based on said result."
   ]
  },
  {
   "cell_type": "code",
   "execution_count": null,
   "id": "eb52fb57-8d46-4ca1-bb58-c3a9b480f48f",
   "metadata": {},
   "outputs": [
    {
     "name": "stdout",
     "output_type": "stream",
     "text": [
      "Hello Batman!\n"
     ]
    }
   ],
   "source": [
    "name = 'Batman'\n",
    "\n",
    "if name == 'Batman':\n",
    "    print('Hello Batman!')\n",
    "else:\n",
    "    print('Hello World!')"
   ]
  },
  {
   "cell_type": "markdown",
   "id": "d07d2a7d-6b95-4213-a9f9-fdc377104871",
   "metadata": {},
   "source": [
    "# 7. Indentations (spaces) are sooo IMPORTANT!\n",
    "This works"
   ]
  },
  {
   "cell_type": "code",
   "execution_count": null,
   "id": "92a16156-b020-4064-b471-98104dbf3176",
   "metadata": {},
   "outputs": [
    {
     "name": "stdout",
     "output_type": "stream",
     "text": [
      "10\n"
     ]
    }
   ],
   "source": [
    "x = 10\n",
    "print(x)"
   ]
  },
  {
   "cell_type": "markdown",
   "id": "f4b10504-4bc9-40c0-88cf-433a16ef85fd",
   "metadata": {},
   "source": [
    "This does not work."
   ]
  },
  {
   "cell_type": "code",
   "execution_count": null,
   "id": "a18b4908-4e76-4435-9d17-35b016b16e57",
   "metadata": {},
   "outputs": [
    {
     "ename": "IndentationError",
     "evalue": "unexpected indent (1537435392.py, line 2)",
     "output_type": "error",
     "traceback": [
      "\u001b[0;36m  Cell \u001b[0;32mIn[11], line 2\u001b[0;36m\u001b[0m\n\u001b[0;31m    print(x)\u001b[0m\n\u001b[0m    ^\u001b[0m\n\u001b[0;31mIndentationError\u001b[0m\u001b[0;31m:\u001b[0m unexpected indent\n"
     ]
    }
   ],
   "source": [
    "x = 10\n",
    " print(x)"
   ]
  },
  {
   "cell_type": "markdown",
   "id": "cdec6346-44e7-424f-b219-9e070d8e9bea",
   "metadata": {},
   "source": [
    "# 8. ‘age’ is English, age is a variable.\n",
    "Variables hold information. It is best to provide a name that describes the data it carries. To print a variable:"
   ]
  },
  {
   "cell_type": "code",
   "execution_count": null,
   "id": "e32f01f4-450d-4b74-8ad8-93fb655e0c5c",
   "metadata": {},
   "outputs": [
    {
     "ename": "NameError",
     "evalue": "name 'age' is not defined",
     "output_type": "error",
     "traceback": [
      "\u001b[0;31m---------------------------------------------------------------------------\u001b[0m",
      "\u001b[0;31mNameError\u001b[0m                                 Traceback (most recent call last)",
      "Cell \u001b[0;32mIn[14], line 1\u001b[0m\n\u001b[0;32m----> 1\u001b[0m \u001b[38;5;28mprint\u001b[39m(\u001b[43mage\u001b[49m)       \u001b[38;5;66;03m# Print the value of the variable age\u001b[39;00m\n\u001b[1;32m      2\u001b[0m \u001b[38;5;28mprint\u001b[39m(\u001b[38;5;124m\"\u001b[39m\u001b[38;5;124mage\u001b[39m\u001b[38;5;124m\"\u001b[39m)     \u001b[38;5;66;03m# Print the English word 'age'\u001b[39;00m\n",
      "\u001b[0;31mNameError\u001b[0m: name 'age' is not defined"
     ]
    }
   ],
   "source": [
    "print(age)       # Print the value of the variable age\n",
    "print(\"age\")     # Print the English word 'age'"
   ]
  },
  {
   "cell_type": "markdown",
   "id": "d568c5fc-6dff-4097-ad23-3cb89d4c7f2f",
   "metadata": {},
   "source": [
    "To get the first line to work, we must define the variable age."
   ]
  },
  {
   "cell_type": "code",
   "execution_count": null,
   "id": "2206854d-42d3-4958-8c7b-e3d2679e3af2",
   "metadata": {},
   "outputs": [
    {
     "name": "stdout",
     "output_type": "stream",
     "text": [
      "10\n"
     ]
    }
   ],
   "source": [
    "age = 10\n",
    "print(age)"
   ]
  },
  {
   "cell_type": "markdown",
   "id": "4635c06c-5a82-4f80-8550-7b83f424a8db",
   "metadata": {},
   "source": [
    "# 9. Brackets\n",
    "Python uses all three types of brackets ( ), [ ] and { }.\n",
    "\n",
    "( ) are used for functions and mathematics, [ ] for lists of data, and { } for dictionaries."
   ]
  },
  {
   "cell_type": "code",
   "execution_count": null,
   "id": "00a18a4c-7bdd-481e-a4ed-874643b4c784",
   "metadata": {},
   "outputs": [
    {
     "name": "stdout",
     "output_type": "stream",
     "text": [
      "Hello!\n",
      "15\n",
      "[1, 2, 3, 4, 5]\n",
      "[[1, 'A'], [2, 'B'], [3, 'C'], [4, 'D'], [5, 'E']]\n",
      "{'Names': 'Batman', 'Real Name': 'Bruce Wayne', 'Age': 55, 'Affiliation': 'Justice League', 'Universe': 'DC'}\n",
      "Bruce Wayne\n"
     ]
    }
   ],
   "source": [
    "print('Hello!')             # In functions\n",
    "\n",
    "print((1 + 2) * 5)                 # For mathematics\n",
    "\n",
    "py_list = [1, 2, 3, 4, 5]   # A 1D list\n",
    "print(py_list)\n",
    "\n",
    "py_list_2 = [               # A 2D list\n",
    "                [1, \"A\"],      \n",
    "                [2, \"B\"],\n",
    "                [3, \"C\"],\n",
    "                [4, \"D\"],\n",
    "                [5, \"E\"]\n",
    "            ]\n",
    "print(py_list_2)\n",
    "\n",
    "personal_info = {\n",
    "    'Names': 'Batman',\n",
    "    'Real Name': 'Bruce Wayne',\n",
    "    'Age': 55,\n",
    "    'Affiliation': 'Justice League',\n",
    "    'Universe': 'DC'\n",
    "}\n",
    "print(personal_info)\n",
    "\n",
    "print(personal_info['Real Name'])    "
   ]
  },
  {
   "cell_type": "markdown",
   "id": "28184259-35b8-4e31-8537-f6dc26fd3dfa",
   "metadata": {},
   "source": [
    "# 10. Giving Python superpowers with Packages\n",
    "To calculate $\\frac{1 \\times ((2 - 3) + 4)^5)}{6}$ in Python, this can be done by:"
   ]
  },
  {
   "cell_type": "code",
   "execution_count": null,
   "id": "33a1ab8f-1e35-4f21-8aa3-d9dd5d21d742",
   "metadata": {},
   "outputs": [
    {
     "data": {
      "text/plain": [
       "40.5"
      ]
     },
     "execution_count": 20,
     "metadata": {},
     "output_type": "execute_result"
    }
   ],
   "source": [
    "1 * ((2 - 3) + 4) ** 5 / 6"
   ]
  },
  {
   "cell_type": "markdown",
   "id": "571ebed1-c2c8-4752-820b-6a12485fdc61",
   "metadata": {},
   "source": [
    "However, for some calculations, we need to import packages."
   ]
  },
  {
   "cell_type": "code",
   "execution_count": null,
   "id": "2a628c82-8272-470a-a66e-47f133b1148f",
   "metadata": {},
   "outputs": [
    {
     "ename": "NameError",
     "evalue": "name 'sqrt' is not defined",
     "output_type": "error",
     "traceback": [
      "\u001b[0;31m---------------------------------------------------------------------------\u001b[0m",
      "\u001b[0;31mNameError\u001b[0m                                 Traceback (most recent call last)",
      "Cell \u001b[0;32mIn[21], line 1\u001b[0m\n\u001b[0;32m----> 1\u001b[0m \u001b[43msqrt\u001b[49m(\u001b[38;5;241m4\u001b[39m) \u001b[38;5;66;03m# This cannot be run, for example\u001b[39;00m\n",
      "\u001b[0;31mNameError\u001b[0m: name 'sqrt' is not defined"
     ]
    }
   ],
   "source": [
    "sqrt(4) # This cannot be run, for example"
   ]
  },
  {
   "cell_type": "code",
   "execution_count": null,
   "id": "5e8f8ccb-a21c-4069-a20b-f5b0f3c95f01",
   "metadata": {},
   "outputs": [
    {
     "data": {
      "text/plain": [
       "2.0"
      ]
     },
     "execution_count": 22,
     "metadata": {},
     "output_type": "execute_result"
    }
   ],
   "source": [
    "import math         # Adding(importing) the functions\n",
    "                    # of the 'math' package    \n",
    "\n",
    "math.sqrt(4)"
   ]
  },
  {
   "cell_type": "markdown",
   "id": "3d8b1f41-9a7d-4c91-a3f6-beb9bfae5196",
   "metadata": {},
   "source": [
    "Many packages add the same functionality above to python."
   ]
  },
  {
   "cell_type": "code",
   "execution_count": null,
   "id": "24bea010-3131-4dc1-9e20-257849565830",
   "metadata": {},
   "outputs": [
    {
     "data": {
      "text/plain": [
       "2.0"
      ]
     },
     "execution_count": 24,
     "metadata": {},
     "output_type": "execute_result"
    }
   ],
   "source": [
    "import numpy as np    # Importing Numpy and giving \n",
    "                      # it an alias np \n",
    "                      # because I am lazy\n",
    "\n",
    "np.sqrt(4)"
   ]
  },
  {
   "cell_type": "markdown",
   "id": "c43a0d1f-34f3-4bd5-8110-3a9936a03686",
   "metadata": {},
   "source": [
    "Different packages offer different capabilities and efficiencies. For example, the Numpy version of sqrt can handle a list of numbers."
   ]
  },
  {
   "cell_type": "code",
   "execution_count": null,
   "id": "501bb34d-6d42-45fd-a666-bb031abcf736",
   "metadata": {},
   "outputs": [
    {
     "data": {
      "text/plain": [
       "array([2., 3., 4.])"
      ]
     },
     "execution_count": 25,
     "metadata": {},
     "output_type": "execute_result"
    }
   ],
   "source": [
    "np.sqrt([4, 9, 16])"
   ]
  },
  {
   "cell_type": "markdown",
   "id": "9523c512-1c32-422c-83ec-216ad9e6834a",
   "metadata": {},
   "source": [
    "# 11. The dot (.)\n",
    "The dot is used to indicate ownership, and what it can acess depends on the context."
   ]
  },
  {
   "cell_type": "code",
   "execution_count": null,
   "id": "bb1624e0-5002-4496-b3e4-9f2176bb86ee",
   "metadata": {},
   "outputs": [
    {
     "data": {
      "text/plain": [
       "2.0"
      ]
     },
     "execution_count": 27,
     "metadata": {},
     "output_type": "execute_result"
    }
   ],
   "source": [
    "math.sqrt(4)\n",
    "np.sqrt(4)"
   ]
  },
  {
   "cell_type": "markdown",
   "id": "13201006-1b9a-4859-9444-c95db08bbda1",
   "metadata": {},
   "source": [
    "In the first line, we use the sqrt that belongs to math. In the second line, we use the sqrt that belongs to numpy.\n",
    "\n",
    "Everything in Python (e.g. numbers and letters) has functions and attributes that belong to them. These can be accessed using a dot. For example, the following will split the sentence into its individual words."
   ]
  },
  {
   "cell_type": "code",
   "execution_count": null,
   "id": "dec77496-287a-468f-be11-dc66f80c6f65",
   "metadata": {},
   "outputs": [
    {
     "data": {
      "text/plain": [
       "['I', 'am', 'Batman']"
      ]
     },
     "execution_count": 28,
     "metadata": {},
     "output_type": "execute_result"
    }
   ],
   "source": [
    "\"I am Batman\".split()"
   ]
  }
 ],
 "metadata": {
  "kernelspec": {
   "display_name": "Python 3 (ipykernel)",
   "language": "python",
   "name": "python3"
  },
  "language_info": {
   "codemirror_mode": {
    "name": "ipython",
    "version": 3
   },
   "file_extension": ".py",
   "mimetype": "text/x-python",
   "name": "python",
   "nbconvert_exporter": "python",
   "pygments_lexer": "ipython3",
   "version": "3.12.5"
  },
  "toc": {
   "base_numbering": 1,
   "nav_menu": {},
   "number_sections": true,
   "sideBar": true,
   "skip_h1_title": false,
   "title_cell": "Table of Contents",
   "title_sidebar": "Contents",
   "toc_cell": false,
   "toc_position": {},
   "toc_section_display": true,
   "toc_window_display": false
  },
  "vscode": {
   "interpreter": {
    "hash": "31f2aee4e71d21fbe5cf8b01ff0e069b9275f58929596ceb00d14d90e3e16cd6"
   }
  }
 },
 "nbformat": 4,
 "nbformat_minor": 5
}
