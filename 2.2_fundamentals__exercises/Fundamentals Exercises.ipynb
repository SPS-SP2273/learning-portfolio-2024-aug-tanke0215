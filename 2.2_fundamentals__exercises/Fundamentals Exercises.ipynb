{
 "cells": [
  {
   "cell_type": "markdown",
   "id": "868ebf5d-2538-42ea-99d2-a4bb52de2393",
   "metadata": {},
   "source": [
    "<div style=\"text-align:left;font-size:2em\"><span style=\"font-weight:bolder;font-size:1.25em\">SP2273 | Learning Portfolio</span><br><span style=\"font-weight:bold;color:darkred\">Fundamentals Exercises</span></div>"
   ]
  },
  {
   "cell_type": "markdown",
   "id": "70cf3ab8-f053-4adf-a2dc-3caf3e8ced00",
   "metadata": {},
   "source": [
    "# Fundamentals (Need)\n",
    "## 1. Exercise 1 (Total recall?) "
   ]
  },
  {
   "cell_type": "code",
   "execution_count": null,
   "id": "6eebf73f-02b4-4be6-9ec6-b348a12bd5c1",
   "metadata": {},
   "outputs": [],
   "source": [
    "print()\n",
    "# comment\n",
    "== or != # test for equality\n",
    "> < # test for inequality\n",
    "if\n",
    "elif\n",
    "else\n",
    "in #test whether or not an item is in a list\n",
    "and\n",
    "or \n",
    "int, str, float # data types\n",
    "type() # changes the type of a variable\n",
    "import # adds packages to python\n",
    "as # can be used to assign an alias to a package\n",
    "#f-string\n",
    "print(f\"Hello {variable}\")"
   ]
  },
  {
   "cell_type": "markdown",
   "id": "f3f8e58c-eaa4-4e50-bbc7-36d6cdfeaa98",
   "metadata": {},
   "source": [
    "## 2. Exercise 2 (Debug me) "
   ]
  },
  {
   "cell_type": "code",
   "execution_count": null,
   "id": "c41a4457-8812-403a-8db2-f13b58c8f2e1",
   "metadata": {},
   "outputs": [],
   "source": [
    "# Debug the following\n",
    "x, y = 3, 4\n",
    "        z = sqrt(x*2 + y**2)\n",
    "    Print(x, y, z)"
   ]
  },
  {
   "cell_type": "code",
   "execution_count": 11,
   "id": "c5595a18-5034-4137-a57d-a3afc31e1d1a",
   "metadata": {},
   "outputs": [
    {
     "name": "stdout",
     "output_type": "stream",
     "text": [
      "3 4 5.0\n"
     ]
    }
   ],
   "source": [
    "import numpy as np\n",
    "x, y = 3, 4\n",
    "z = np.sqrt(x**2 + y**2)\n",
    "print(x, y, z)"
   ]
  },
  {
   "cell_type": "markdown",
   "id": "fe645501-42c0-47b9-a9e1-f21781082fa0",
   "metadata": {},
   "source": [
    "## 3. Exercise 3 (In your own words)"
   ]
  },
  {
   "cell_type": "markdown",
   "id": "a179ed0d-87a3-4c85-9659-667c472d75b4",
   "metadata": {},
   "source": [
    "| #  | Term         | Description                                                    |\n",
    "|----|--------------|----------------------------------------------------------------|\n",
    "| 1  | Function     | Something that does a specific task                            |\n",
    "| 2  | Arguments    | Values passed to a function                                  |\n",
    "| 3  | Comments     | Adds description to the code so we can understand              |\n",
    "| 4  | Indentations | Indicates a block of code                                      |\n",
    "| 5  | Packages     | Gives Python new superpowers                                   |\n",
    "| 6  | .            | Indicates ownership e.g. in math.sqrt the sqrt belongs to math |\n",
    "| 7  | :            | Indicates a start of an indented block of code                 |\n",
    "| 8  | []           | For lists of data                                              |\n",
    "| 9  | [[],[]]      | For arrays                                                     |\n",
    "| 10 | {}           | For dictionaries                                               |"
   ]
  },
  {
   "cell_type": "markdown",
   "id": "c61d8ff3-040b-4731-9ac1-1137c0c1a5f6",
   "metadata": {},
   "source": [
    "## 4. Exercise 4 (More than one way to divide) "
   ]
  },
  {
   "cell_type": "code",
   "execution_count": 13,
   "id": "505b4271-2eea-4494-a907-c13affd9001d",
   "metadata": {},
   "outputs": [
    {
     "data": {
      "text/plain": [
       "2.5"
      ]
     },
     "execution_count": 13,
     "metadata": {},
     "output_type": "execute_result"
    }
   ],
   "source": [
    "5/2 # Gives a float number"
   ]
  },
  {
   "cell_type": "code",
   "execution_count": 14,
   "id": "aad3cc4f-de89-4567-bae4-59d338f3bb64",
   "metadata": {},
   "outputs": [
    {
     "data": {
      "text/plain": [
       "2"
      ]
     },
     "execution_count": 14,
     "metadata": {},
     "output_type": "execute_result"
    }
   ],
   "source": [
    "5//2 # Gives an integer"
   ]
  },
  {
   "cell_type": "code",
   "execution_count": 29,
   "id": "9f8a7242-ff69-48d3-8cea-8032b57eccdb",
   "metadata": {},
   "outputs": [
    {
     "data": {
      "text/plain": [
       "1"
      ]
     },
     "execution_count": 29,
     "metadata": {},
     "output_type": "execute_result"
    }
   ],
   "source": [
    "5%2 #Gives the remainder "
   ]
  },
  {
   "cell_type": "markdown",
   "id": "5680a0b2-f141-45ae-b1d5-e6f7e0ffc330",
   "metadata": {},
   "source": [
    "# Fundamentals (Good)\n",
    "## 1. Exercise 1 (f-strings to the rescue)  "
   ]
  },
  {
   "cell_type": "code",
   "execution_count": 36,
   "id": "a06476d4-c8d4-4d7c-a5c2-739e63f2e5ca",
   "metadata": {},
   "outputs": [
    {
     "name": "stdin",
     "output_type": "stream",
     "text": [
      "What is your name? Tan\n"
     ]
    },
    {
     "name": "stdout",
     "output_type": "stream",
     "text": [
      "How you doin Tan!\n"
     ]
    }
   ],
   "source": [
    "name = input(\"What is your name?\")\n",
    "print(f\"How you doin {name}!\")"
   ]
  },
  {
   "cell_type": "code",
   "execution_count": 38,
   "id": "eeca8fa5-918c-4ea3-8641-016ff5a1d08d",
   "metadata": {},
   "outputs": [
    {
     "name": "stdin",
     "output_type": "stream",
     "text": [
      "What is your name? Tan\n",
      "What is your age? 19\n"
     ]
    },
    {
     "name": "stdout",
     "output_type": "stream",
     "text": [
      "My name is Tan and I am 19 years old.\n"
     ]
    }
   ],
   "source": [
    "name = input(\"What is your name?\")\n",
    "age = int(input(\"What is your age?\"))\n",
    "print(f\"My name is {name} and I am {age} years old.\")"
   ]
  },
  {
   "cell_type": "code",
   "execution_count": 43,
   "id": "e3894e45-289b-410f-af02-23b6b5f2aaf0",
   "metadata": {},
   "outputs": [
    {
     "name": "stdout",
     "output_type": "stream",
     "text": [
      "The value of pi to 2 decimal places is: 3.14\n",
      "The value of pi to 4 decimal places is: 3.1416\n",
      "The value of pi to 6 decimal places is: 3.141593\n"
     ]
    }
   ],
   "source": [
    "pi = 3.141592653589793\n",
    "def pitondp(n): #value of pi to n decimal places\n",
    "    print(f\"The value of pi to {n} decimal places is: {pi:.{n}f}\")\n",
    "pitondp(2)\n",
    "pitondp(4)\n",
    "pitondp(6)"
   ]
  },
  {
   "cell_type": "code",
   "execution_count": 85,
   "id": "f94fca8b-be55-4abb-95da-ab27d4ad03a4",
   "metadata": {},
   "outputs": [
    {
     "name": "stdout",
     "output_type": "stream",
     "text": [
      "Apple      $ 0.99\n",
      "Banana     $ 0.59\n",
      "Orange     $ 1.29\n",
      "\n",
      "********** $*****\n"
     ]
    }
   ],
   "source": [
    "print(f\"Apple {'$':>6} 0.99\")\n",
    "print(f\"Banana {'$':>5} 0.59\")\n",
    "print(f\"Orange {'$':>5} 1.29\") \n",
    "print(\"\\n********** $*****\")"
   ]
  },
  {
   "cell_type": "markdown",
   "id": "205060de-290d-44a1-8dc3-e47393f53f25",
   "metadata": {},
   "source": [
    "## 2. Exercise 2 (What is your grade?)"
   ]
  },
  {
   "cell_type": "code",
   "execution_count": 108,
   "id": "1d5219fe-a416-49a3-a591-760ecc1fba46",
   "metadata": {},
   "outputs": [
    {
     "name": "stdin",
     "output_type": "stream",
     "text": [
      "Enter the student's score: 99\n"
     ]
    },
    {
     "name": "stdout",
     "output_type": "stream",
     "text": [
      "The student's letter grade is: A\n"
     ]
    }
   ],
   "source": [
    "grade = \"\"\n",
    "\n",
    "while True:\n",
    "    while True:\n",
    "        try:\n",
    "            score = int(input(\"Enter the student's score:\"))\n",
    "        except ValueError:\n",
    "            print(\"Invalid input, please enter an integer from 0-100.\")\n",
    "        else:\n",
    "            break\n",
    "\n",
    "    if 0 <= score <= 100:\n",
    "        break\n",
    "        \n",
    "    else:\n",
    "        print(\"Numerical grade is outside of the range 0-100, please try again\")\n",
    "\n",
    "if 70 <= score <= 100:\n",
    "    grade = \"A\"\n",
    "if 50 <= score <= 69:\n",
    "    grade = \"B\"\n",
    "if 35 <= score <= 49:\n",
    "    grade = \"C\"\n",
    "if 0 <= score <= 34:\n",
    "    grade = \"Fail\"\n",
    "\n",
    "print(f\"The student's letter grade is: {grade}\")"
   ]
  },
  {
   "cell_type": "markdown",
   "id": "bda325bc-9020-49fc-a842-b08cfb1e98cb",
   "metadata": {},
   "source": [
    "## Exercise 3 (Debugging Code)"
   ]
  },
  {
   "cell_type": "code",
   "execution_count": 117,
   "id": "51e6e499-ab04-49b7-9832-bf156bde4574",
   "metadata": {},
   "outputs": [
    {
     "name": "stdout",
     "output_type": "stream",
     "text": [
      "120\n",
      "Invalid input\n"
     ]
    }
   ],
   "source": [
    "def factorial(n):\n",
    "    if n < 0:\n",
    "        return \"Invalid input\"\n",
    "    elif n == 0:\n",
    "        return 1\n",
    "    else:\n",
    "        result = 1\n",
    "        for number in range(1, n+1):\n",
    "            result *= number\n",
    "        return result\n",
    "\n",
    "\n",
    "print(factorial(5))   # Testing, expected output: 120\n",
    "print(factorial(-1))  # Testing, expected output: Invalid input"
   ]
  },
  {
   "cell_type": "code",
   "execution_count": null,
   "id": "dc4c4a68-c4f2-4505-b4b9-1bf0347986e8",
   "metadata": {},
   "outputs": [],
   "source": []
  }
 ],
 "metadata": {
  "kernelspec": {
   "display_name": "Python 3 (ipykernel)",
   "language": "python",
   "name": "python3"
  },
  "language_info": {
   "codemirror_mode": {
    "name": "ipython",
    "version": 3
   },
   "file_extension": ".py",
   "mimetype": "text/x-python",
   "name": "python",
   "nbconvert_exporter": "python",
   "pygments_lexer": "ipython3",
   "version": "3.12.2"
  }
 },
 "nbformat": 4,
 "nbformat_minor": 5
}
