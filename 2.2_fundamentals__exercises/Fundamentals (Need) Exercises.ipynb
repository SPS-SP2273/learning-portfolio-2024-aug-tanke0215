{
 "cells": [
  {
   "cell_type": "markdown",
   "id": "868ebf5d-2538-42ea-99d2-a4bb52de2393",
   "metadata": {},
   "source": [
    "<div style=\"text-align:left;font-size:2em\"><span style=\"font-weight:bolder;font-size:1.25em\">SP2273 | Learning Portfolio</span></div>"
   ]
  },
  {
   "cell_type": "markdown",
   "id": "70cf3ab8-f053-4adf-a2dc-3caf3e8ced00",
   "metadata": {},
   "source": [
    "# Fundamentals (Need) Exercises\n",
    "## 1. Exercise 1 (Total recall?) "
   ]
  },
  {
   "cell_type": "code",
   "execution_count": null,
   "id": "6eebf73f-02b4-4be6-9ec6-b348a12bd5c1",
   "metadata": {},
   "outputs": [],
   "source": [
    "print()\n",
    "# comment\n",
    "== or != # test for equality\n",
    "> < # test for inequality\n",
    "if\n",
    "elif\n",
    "else\n",
    "in #test whether or not an item is in a list\n",
    "and\n",
    "or \n",
    "int, str, float # data types\n",
    "type() # changes the type of a variable\n",
    "import # adds packages to python\n",
    "as # can be used to assign an alias to a package\n",
    "#f-string\n",
    "print(f\"Hello {variable}\")"
   ]
  },
  {
   "cell_type": "markdown",
   "id": "f3f8e58c-eaa4-4e50-bbc7-36d6cdfeaa98",
   "metadata": {},
   "source": [
    "## 2. Exercise 2 (Debug me) "
   ]
  },
  {
   "cell_type": "code",
   "execution_count": null,
   "id": "c41a4457-8812-403a-8db2-f13b58c8f2e1",
   "metadata": {},
   "outputs": [],
   "source": [
    "# Debug the following\n",
    "x, y = 3, 4\n",
    "        z = sqrt(x*2 + y**2)\n",
    "    Print(x, y, z)"
   ]
  },
  {
   "cell_type": "code",
   "execution_count": null,
   "id": "c5595a18-5034-4137-a57d-a3afc31e1d1a",
   "metadata": {},
   "outputs": [
    {
     "name": "stdout",
     "output_type": "stream",
     "text": [
      "3 4 5.0\n"
     ]
    }
   ],
   "source": [
    "import numpy as np\n",
    "x, y = 3, 4\n",
    "z = np.sqrt(x**2 + y**2)\n",
    "print(x, y, z)"
   ]
  },
  {
   "cell_type": "markdown",
   "id": "fe645501-42c0-47b9-a9e1-f21781082fa0",
   "metadata": {},
   "source": [
    "## 3. Exercise 3 (In your own words)"
   ]
  },
  {
   "cell_type": "markdown",
   "id": "a179ed0d-87a3-4c85-9659-667c472d75b4",
   "metadata": {},
   "source": [
    "| #  | Term         | Description                                                    |\n",
    "|----|--------------|----------------------------------------------------------------|\n",
    "| 1  | Function     | Something that does a specific task                            |\n",
    "| 2  | Arguments    | Values passed to a function                                  |\n",
    "| 3  | Comments     | Adds description to the code so we can understand              |\n",
    "| 4  | Indentations | Indicates a block of code                                      |\n",
    "| 5  | Packages     | Gives Python new superpowers                                   |\n",
    "| 6  | .            | Indicates ownership e.g. in math.sqrt the sqrt belongs to math |\n",
    "| 7  | :            | Indicates a start of an indented block of code                 |\n",
    "| 8  | []           | For lists of data                                              |\n",
    "| 9  | [[],[]]      | For arrays                                                     |\n",
    "| 10 | {}           | For dictionaries                                               |"
   ]
  },
  {
   "cell_type": "markdown",
   "id": "c61d8ff3-040b-4731-9ac1-1137c0c1a5f6",
   "metadata": {},
   "source": [
    "## 4. Exercise 4 (More than one way to divide) "
   ]
  },
  {
   "cell_type": "code",
   "execution_count": null,
   "id": "505b4271-2eea-4494-a907-c13affd9001d",
   "metadata": {},
   "outputs": [
    {
     "data": {
      "text/plain": [
       "2.5"
      ]
     },
     "execution_count": 13,
     "metadata": {},
     "output_type": "execute_result"
    }
   ],
   "source": [
    "5/2 # Gives a float number"
   ]
  },
  {
   "cell_type": "code",
   "execution_count": null,
   "id": "aad3cc4f-de89-4567-bae4-59d338f3bb64",
   "metadata": {},
   "outputs": [
    {
     "data": {
      "text/plain": [
       "2"
      ]
     },
     "execution_count": 14,
     "metadata": {},
     "output_type": "execute_result"
    }
   ],
   "source": [
    "5//2 # Gives an integer"
   ]
  },
  {
   "cell_type": "code",
   "execution_count": null,
   "id": "9f8a7242-ff69-48d3-8cea-8032b57eccdb",
   "metadata": {},
   "outputs": [
    {
     "data": {
      "text/plain": [
       "1"
      ]
     },
     "execution_count": 29,
     "metadata": {},
     "output_type": "execute_result"
    }
   ],
   "source": [
    "5%2 #Gives the remainder "
   ]
  }
 ],
 "metadata": {
  "kernelspec": {
   "display_name": "Python 3 (ipykernel)",
   "language": "python",
   "name": "python3"
  },
  "language_info": {
   "codemirror_mode": {
    "name": "ipython",
    "version": 3
   },
   "file_extension": ".py",
   "mimetype": "text/x-python",
   "name": "python",
   "nbconvert_exporter": "python",
   "pygments_lexer": "ipython3",
   "version": "3.12.5"
  }
 },
 "nbformat": 4,
 "nbformat_minor": 5
}
