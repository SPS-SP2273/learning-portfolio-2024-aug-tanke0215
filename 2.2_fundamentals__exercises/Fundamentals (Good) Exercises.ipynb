{
 "cells": [
  {
   "cell_type": "markdown",
   "id": "868ebf5d-2538-42ea-99d2-a4bb52de2393",
   "metadata": {},
   "source": [
    "<div style=\"text-align:left;font-size:2em\"><span style=\"font-weight:bolder;font-size:1.25em\">SP2273 | Learning Portfolio</span></div>"
   ]
  },
  {
   "cell_type": "markdown",
   "id": "5680a0b2-f141-45ae-b1d5-e6f7e0ffc330",
   "metadata": {},
   "source": [
    "# Fundamentals (Good) Exercises\n",
    "## 1. Exercise 1 (f-strings to the rescue)  "
   ]
  },
  {
   "cell_type": "code",
   "execution_count": null,
   "id": "a06476d4-c8d4-4d7c-a5c2-739e63f2e5ca",
   "metadata": {},
   "outputs": [
    {
     "name": "stdout",
     "output_type": "stream",
     "text": [
      "What is your name? Tan\n"
     ]
    },
    {
     "name": "stdout",
     "output_type": "stream",
     "text": [
      "How you doin Tan!\n"
     ]
    }
   ],
   "source": [
    "name = input(\"What is your name?\")\n",
    "print(f\"How you doin {name}!\")"
   ]
  },
  {
   "cell_type": "code",
   "execution_count": null,
   "id": "eeca8fa5-918c-4ea3-8641-016ff5a1d08d",
   "metadata": {},
   "outputs": [
    {
     "name": "stdout",
     "output_type": "stream",
     "text": [
      "What is your name? Tan\n",
      "What is your age? 19\n"
     ]
    },
    {
     "name": "stdout",
     "output_type": "stream",
     "text": [
      "My name is Tan and I am 19 years old.\n"
     ]
    }
   ],
   "source": [
    "name = input(\"What is your name?\")\n",
    "age = int(input(\"What is your age?\"))\n",
    "print(f\"My name is {name} and I am {age} years old.\")"
   ]
  },
  {
   "cell_type": "code",
   "execution_count": null,
   "id": "e3894e45-289b-410f-af02-23b6b5f2aaf0",
   "metadata": {},
   "outputs": [
    {
     "name": "stdout",
     "output_type": "stream",
     "text": [
      "The value of pi to 2 decimal places is: 3.14\n",
      "The value of pi to 4 decimal places is: 3.1416\n",
      "The value of pi to 6 decimal places is: 3.141593\n"
     ]
    }
   ],
   "source": [
    "pi = 3.141592653589793\n",
    "def pitondp(n): #value of pi to n decimal places\n",
    "    print(f\"The value of pi to {n} decimal places is: {pi:.{n}f}\")\n",
    "pitondp(2)\n",
    "pitondp(4)\n",
    "pitondp(6)"
   ]
  },
  {
   "cell_type": "code",
   "execution_count": null,
   "id": "f94fca8b-be55-4abb-95da-ab27d4ad03a4",
   "metadata": {},
   "outputs": [
    {
     "name": "stdout",
     "output_type": "stream",
     "text": [
      "Apple      $ 0.99\n",
      "Banana     $ 0.59\n",
      "Orange     $ 1.29\n",
      "\n",
      "********** $*****\n"
     ]
    }
   ],
   "source": [
    "print(f\"Apple {'$':>6} 0.99\")\n",
    "print(f\"Banana {'$':>5} 0.59\")\n",
    "print(f\"Orange {'$':>5} 1.29\") \n",
    "print(\"\\n********** $*****\")"
   ]
  },
  {
   "cell_type": "markdown",
   "id": "205060de-290d-44a1-8dc3-e47393f53f25",
   "metadata": {},
   "source": [
    "## 2. Exercise 2 (What is your grade?)"
   ]
  },
  {
   "cell_type": "code",
   "execution_count": null,
   "id": "1d5219fe-a416-49a3-a591-760ecc1fba46",
   "metadata": {},
   "outputs": [
    {
     "name": "stdout",
     "output_type": "stream",
     "text": [
      "Enter the student's score: 99\n"
     ]
    },
    {
     "name": "stdout",
     "output_type": "stream",
     "text": [
      "The student's letter grade is: A\n"
     ]
    }
   ],
   "source": [
    "grade = \"\"\n",
    "\n",
    "while True:\n",
    "    while True:\n",
    "        try:\n",
    "            score = int(input(\"Enter the student's score:\"))\n",
    "        except ValueError:\n",
    "            print(\"Invalid input, please enter an integer from 0-100.\")\n",
    "        else:\n",
    "            break\n",
    "\n",
    "    if 0 <= score <= 100:\n",
    "        break\n",
    "        \n",
    "    else:\n",
    "        print(\"Numerical grade is outside of the range 0-100, please try again\")\n",
    "\n",
    "if 70 <= score <= 100:\n",
    "    grade = \"A\"\n",
    "if 50 <= score <= 69:\n",
    "    grade = \"B\"\n",
    "if 35 <= score <= 49:\n",
    "    grade = \"C\"\n",
    "if 0 <= score <= 34:\n",
    "    grade = \"Fail\"\n",
    "\n",
    "print(f\"The student's letter grade is: {grade}\")"
   ]
  },
  {
   "cell_type": "markdown",
   "id": "bda325bc-9020-49fc-a842-b08cfb1e98cb",
   "metadata": {},
   "source": [
    "## Exercise 3 (Debugging Code)"
   ]
  },
  {
   "cell_type": "code",
   "execution_count": null,
   "id": "51e6e499-ab04-49b7-9832-bf156bde4574",
   "metadata": {},
   "outputs": [
    {
     "name": "stdout",
     "output_type": "stream",
     "text": [
      "120\n",
      "Invalid input\n"
     ]
    }
   ],
   "source": [
    "def factorial(n):\n",
    "    if n < 0:\n",
    "        return \"Invalid input\"\n",
    "    elif n == 0:\n",
    "        return 1\n",
    "    else:\n",
    "        result = 1\n",
    "        for number in range(1, n+1):\n",
    "            result *= number\n",
    "        return result\n",
    "\n",
    "\n",
    "print(factorial(5))   # Testing, expected output: 120\n",
    "print(factorial(-1))  # Testing, expected output: Invalid input"
   ]
  }
 ],
 "metadata": {
  "kernelspec": {
   "display_name": "Python 3 (ipykernel)",
   "language": "python",
   "name": "python3"
  },
  "language_info": {
   "codemirror_mode": {
    "name": "ipython",
    "version": 3
   },
   "file_extension": ".py",
   "mimetype": "text/x-python",
   "name": "python",
   "nbconvert_exporter": "python",
   "pygments_lexer": "ipython3",
   "version": "3.12.5"
  }
 },
 "nbformat": 4,
 "nbformat_minor": 5
}
