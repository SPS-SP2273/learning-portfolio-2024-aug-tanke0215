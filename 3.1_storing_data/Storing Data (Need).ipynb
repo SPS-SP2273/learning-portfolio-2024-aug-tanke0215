{
 "cells": [
  {
   "attachments": {},
   "cell_type": "markdown",
   "id": "123456",
   "metadata": {},
   "source": [
    "<div style=\"text-align:left;font-size:2em\"><span style=\"font-weight:bolder;font-size:1.25em\">SP2273 | Learning Portfolio</span><br><span style=\"font-weight:bold;color:darkred\">Storing Data (Need)</span></div>"
   ]
  },
  {
   "attachments": {},
   "cell_type": "markdown",
   "id": "9eff793e",
   "metadata": {},
   "source": [
    "## 1 Lists, Arrays & Dictionaries\n",
    "### 1.1 Let's compare\n",
    "There are three ways to store data in Python: lists, NumPy arrays and dictionaries \n",
    "\n",
    "**Python Lists**\n",
    "```python \n",
    "py_super_names = [\"Black Widow\", \"Iron Man\", \"Doctor Strange\"]\n",
    "py_real_names = [\"Natasha Romanoff\", \"Tony Stark\", \"Stephen Strange\"]\n",
    "```\n",
    "\n",
    "**Numpy Arrays**\n",
    "```python\n",
    "import numpy as np\n",
    "np_super_names = np.array([\"Black Widow\", \"Iron Man\", \"Doctor Strange\"])\n",
    "np_real_names = np.array([\"Natasha Romanoff\", \"Tony Stark\", \"Stephen Strange\"])\n",
    "```\n",
    "\n",
    "**Dictionary**\n",
    "```python\n",
    "superhero_info = {\n",
    "    \"Natasha Romanoff\": \"Black Widow\",\n",
    "    \"Tony Stark\": \"Iron Man\",\n",
    "    \"Stephen Strange\": \"Doctor Strange\"\n",
    "}\n",
    "```\n",
    "Notice:\n",
    "- Dictionaries use a key and an associated value separated by a :\n",
    "- The dictionary very elegantly holds the real and superhero names in one structure while we need two lists (or arrays) for the same data.\n",
    "- For lists and arrays, the order matters. I.e. ‘Iron Man’ must be in the same position as ‘Tony Stark’ for things to work."
   ]
  },
  {
   "attachments": {},
   "cell_type": "markdown",
   "id": "f744d664",
   "metadata": {},
   "source": [
    "### 1.2 Accessing data from a list (or array)\n",
    "To access data from lists, we need to use an index corresponding to the data's position. A reminder that Python starts counting from 0."
   ]
  },
  {
   "cell_type": "code",
   "execution_count": 87,
   "id": "1a3a7a05",
   "metadata": {},
   "outputs": [
    {
     "name": "stdout",
     "output_type": "stream",
     "text": [
      "Natasha Romanoff\n",
      "Black Widow\n"
     ]
    }
   ],
   "source": [
    "py_super_names = [\"Black Widow\", \"Iron Man\", \"Doctor Strange\"]\n",
    "py_real_names = [\"Natasha Romanoff\", \"Tony Stark\", \"Stephen Strange\"]\n",
    "\n",
    "print(py_real_names[0]) # Prints first element in the list\n",
    "print(py_super_names[0])"
   ]
  },
  {
   "cell_type": "markdown",
   "id": "1e34f98c",
   "metadata": {},
   "source": [
    "We can use a negative index to count from the back of the list. For example, [-1] will give the last element, [-2], the second last and so on. \n",
    "\n",
    "This is useful as we can access the last element without knowing how many elements there in a list."
   ]
  },
  {
   "cell_type": "code",
   "execution_count": 88,
   "id": "c4d5bad9",
   "metadata": {},
   "outputs": [
    {
     "name": "stdout",
     "output_type": "stream",
     "text": [
      "Doctor Strange\n",
      "Doctor Strange\n"
     ]
    }
   ],
   "source": [
    "print(py_super_names[2])       # Forward indexing\n",
    "print(py_super_names[-1])      # Reverse indexing "
   ]
  },
  {
   "attachments": {},
   "cell_type": "markdown",
   "id": "35bbc06b",
   "metadata": {},
   "source": [
    "### 1.3 Accessing data from a dictionary\n",
    "Dictionaries hold data value paired with a key. This means you can access the data value (e.g. the superhero name) using the assigned name as a key."
   ]
  },
  {
   "cell_type": "code",
   "execution_count": 89,
   "id": "5407ec8e",
   "metadata": {},
   "outputs": [
    {
     "data": {
      "text/plain": [
       "'Black Widow'"
      ]
     },
     "execution_count": 89,
     "metadata": {},
     "output_type": "execute_result"
    }
   ],
   "source": [
    "superhero_info = {\n",
    "    \"Natasha Romanoff\": \"Black Widow\",\n",
    "    \"Tony Stark\": \"Iron Man\",\n",
    "    \"Stephen Strange\": \"Doctor Strange\"\n",
    "}                  \n",
    "superhero_info[\"Natasha Romanoff\"]"
   ]
  },
  {
   "cell_type": "markdown",
   "id": "407bb7a3",
   "metadata": {},
   "source": [
    "To access keys, use .keys(). \n",
    "To access values use .values()"
   ]
  },
  {
   "attachments": {},
   "cell_type": "markdown",
   "id": "62b4bbb4",
   "metadata": {},
   "source": [
    "### 1.4 Higher dimensional lists\n",
    "Unlike with a dictionary, we needed two lists to store the real and corresponding superhero names. We can also represent the information as a 2D array.\n",
    "```python\n",
    "py_superhero_info = [['Natasha Romanoff', 'Black Widow'],\n",
    "                     ['Tony Stark', 'Iron Man'],\n",
    "                     ['Stephen Strange', 'Doctor Strange']]\n",
    "```"
   ]
  },
  {
   "attachments": {},
   "cell_type": "markdown",
   "id": "0415b44c",
   "metadata": {},
   "source": [
    "## 2   Lists vs Arrays\n",
    "### 2.1 Size\n",
    "To find how many elements there are in a list/array, you can use len(). For arrays however, there are other options too."
   ]
  },
  {
   "cell_type": "code",
   "execution_count": 90,
   "id": "2c005456",
   "metadata": {},
   "outputs": [
    {
     "name": "stdout",
     "output_type": "stream",
     "text": [
      "10\n",
      "10\n",
      "(10, 2)\n"
     ]
    }
   ],
   "source": [
    "import numpy as np\n",
    "py_list_2d = [[1, \"A\"], [2, \"B\"], [3, \"C\"], [4, \"D\"],\n",
    "              [5, \"E\"], [6, \"F\"], [7, \"G\"], [8, \"H\"],\n",
    "              [9, \"I\"], [10, \"J\"]]\n",
    "\n",
    "np_array_2d = np.array(py_list_2d)\n",
    "\n",
    "print(len(py_list_2d))\n",
    "print(len(np_array_2d))\n",
    "print(np_array_2d.shape) #Gives both number of elements and dimension"
   ]
  },
  {
   "cell_type": "markdown",
   "id": "b867ecff",
   "metadata": {},
   "source": [
    "### 2.2 Arrays are fussy about type\n",
    "One prominent difference between lists and arrays is that arrays insist on having only a single data type, whereas lists do not."
   ]
  },
  {
   "cell_type": "code",
   "execution_count": 91,
   "id": "c2b2eaed",
   "metadata": {},
   "outputs": [],
   "source": [
    "py_list = [1, 1.5, 'A']\n",
    "np_array = np.array(py_list)"
   ]
  },
  {
   "cell_type": "code",
   "execution_count": 92,
   "id": "748d11be",
   "metadata": {},
   "outputs": [
    {
     "data": {
      "text/plain": [
       "[1, 1.5, 'A']"
      ]
     },
     "execution_count": 92,
     "metadata": {},
     "output_type": "execute_result"
    }
   ],
   "source": [
    "py_list"
   ]
  },
  {
   "cell_type": "code",
   "execution_count": 93,
   "id": "e6ef48d0",
   "metadata": {},
   "outputs": [
    {
     "data": {
      "text/plain": [
       "array(['1', '1.5', 'A'], dtype='<U32')"
      ]
     },
     "execution_count": 93,
     "metadata": {},
     "output_type": "execute_result"
    }
   ],
   "source": [
    "np_array"
   ]
  },
  {
   "cell_type": "markdown",
   "id": "71ad99e6",
   "metadata": {},
   "source": [
    "### 2.3 Adding a number\n",
    "Adding a number to an array adds that number to every element in the array. This does not work for lists."
   ]
  },
  {
   "cell_type": "code",
   "execution_count": 94,
   "id": "72fca07f",
   "metadata": {},
   "outputs": [
    {
     "data": {
      "text/plain": [
       "array([11, 12, 13, 14, 15])"
      ]
     },
     "execution_count": 94,
     "metadata": {},
     "output_type": "execute_result"
    }
   ],
   "source": [
    "py_list = [1, 2, 3, 4, 5]\n",
    "np_array = np.array(py_list)  \n",
    "\n",
    "np_array + 10"
   ]
  },
  {
   "cell_type": "code",
   "execution_count": 95,
   "id": "48ae3aa6",
   "metadata": {},
   "outputs": [
    {
     "ename": "TypeError",
     "evalue": "can only concatenate list (not \"int\") to list",
     "output_type": "error",
     "traceback": [
      "\u001b[0;31m---------------------------------------------------------------------------\u001b[0m",
      "\u001b[0;31mTypeError\u001b[0m                                 Traceback (most recent call last)",
      "Cell \u001b[0;32mIn[95], line 1\u001b[0m\n\u001b[0;32m----> 1\u001b[0m py_list \u001b[38;5;241m+\u001b[39m \u001b[38;5;241m10\u001b[39m\n",
      "\u001b[0;31mTypeError\u001b[0m: can only concatenate list (not \"int\") to list"
     ]
    }
   ],
   "source": [
    "py_list + 10 # This will not work"
   ]
  },
  {
   "cell_type": "markdown",
   "id": "d1651b4b",
   "metadata": {},
   "source": [
    "### 2.4 Adding another list\n",
    "To combine two lists or two arrays together, use +"
   ]
  },
  {
   "cell_type": "code",
   "execution_count": null,
   "id": "72593c61",
   "metadata": {},
   "outputs": [],
   "source": [
    "py_list_1 = [1, 2, 3, 4, 5]\n",
    "py_list_2 = [10, 20, 30, 40, 50]\n",
    "\n",
    "np_array_1 = np.array(py_list_1)\n",
    "np_array_2 = np.array(py_list_2)"
   ]
  },
  {
   "cell_type": "code",
   "execution_count": null,
   "id": "1b532b98",
   "metadata": {},
   "outputs": [
    {
     "data": {
      "text/plain": [
       "[1, 2, 3, 4, 5, 10, 20, 30, 40, 50]"
      ]
     },
     "execution_count": 35,
     "metadata": {},
     "output_type": "execute_result"
    }
   ],
   "source": [
    "py_list_1 + py_list_2"
   ]
  },
  {
   "cell_type": "code",
   "execution_count": null,
   "id": "1d9fee6b",
   "metadata": {},
   "outputs": [
    {
     "data": {
      "text/plain": [
       "array([11, 22, 33, 44, 55])"
      ]
     },
     "execution_count": 36,
     "metadata": {},
     "output_type": "execute_result"
    }
   ],
   "source": [
    "np_array_1 + np_array_2"
   ]
  },
  {
   "cell_type": "markdown",
   "id": "b500e71b",
   "metadata": {},
   "source": [
    "### 2.5 Multiplying by a Number\n",
    "Multiplying a list repeats the list n times. \\\n",
    "Multiplying an array multplies the individual elements in the array by x."
   ]
  },
  {
   "cell_type": "code",
   "execution_count": null,
   "id": "6cd67789",
   "metadata": {},
   "outputs": [],
   "source": [
    "py_list = [1, 2, 3, 4, 5]\n",
    "np_array = np.array(py_list)         "
   ]
  },
  {
   "cell_type": "code",
   "execution_count": null,
   "id": "0afe2a1f",
   "metadata": {},
   "outputs": [
    {
     "data": {
      "text/plain": [
       "[1, 2, 3, 4, 5, 1, 2, 3, 4, 5]"
      ]
     },
     "execution_count": 21,
     "metadata": {},
     "output_type": "execute_result"
    }
   ],
   "source": [
    "py_list*2"
   ]
  },
  {
   "cell_type": "code",
   "execution_count": null,
   "id": "210b6842",
   "metadata": {},
   "outputs": [
    {
     "data": {
      "text/plain": [
       "array([ 2,  4,  6,  8, 10])"
      ]
     },
     "execution_count": 20,
     "metadata": {},
     "output_type": "execute_result"
    }
   ],
   "source": [
    "np_array*2"
   ]
  },
  {
   "cell_type": "markdown",
   "id": "72a30899",
   "metadata": {},
   "source": [
    "### 2.6 Squaring"
   ]
  },
  {
   "cell_type": "code",
   "execution_count": null,
   "id": "7e80efa7",
   "metadata": {},
   "outputs": [
    {
     "data": {
      "text/plain": [
       "array([ 1,  4,  9, 16, 25])"
      ]
     },
     "execution_count": 52,
     "metadata": {},
     "output_type": "execute_result"
    }
   ],
   "source": [
    "py_list = [1, 2, 3, 4, 5]\n",
    "np_array = np.array(py_list)\n",
    "\n",
    "np_array**2"
   ]
  },
  {
   "cell_type": "code",
   "execution_count": null,
   "id": "ada53833",
   "metadata": {},
   "outputs": [],
   "source": [
    "py_list**2      # Won't work!  "
   ]
  },
  {
   "cell_type": "markdown",
   "id": "c4546b21",
   "metadata": {},
   "source": [
    "### 2.7 Asking questions"
   ]
  },
  {
   "cell_type": "code",
   "execution_count": null,
   "id": "489358da",
   "metadata": {},
   "outputs": [],
   "source": [
    "py_list = [1, 2, 3, 4, 5]\n",
    "np_array = np.array(py_list)         "
   ]
  },
  {
   "cell_type": "code",
   "execution_count": null,
   "id": "d13caac0",
   "metadata": {},
   "outputs": [
    {
     "data": {
      "text/plain": [
       "False"
      ]
     },
     "execution_count": 64,
     "metadata": {},
     "output_type": "execute_result"
    }
   ],
   "source": [
    "py_list == 1    # Works, but what IS the question?"
   ]
  },
  {
   "cell_type": "code",
   "execution_count": null,
   "id": "d73ea4ab",
   "metadata": {},
   "outputs": [
    {
     "data": {
      "text/plain": [
       "True"
      ]
     },
     "execution_count": 63,
     "metadata": {},
     "output_type": "execute_result"
    }
   ],
   "source": [
    "py_list == [1, 2, 3, 4, 5]  # Tests if py_list is equal to another list"
   ]
  },
  {
   "cell_type": "code",
   "execution_count": null,
   "id": "bcf1c950",
   "metadata": {},
   "outputs": [],
   "source": [
    "py_list > 3      # Won't work!"
   ]
  },
  {
   "cell_type": "code",
   "execution_count": null,
   "id": "8b85e82a",
   "metadata": {},
   "outputs": [
    {
     "data": {
      "text/plain": [
       "array([False, False,  True, False, False])"
      ]
     },
     "execution_count": 56,
     "metadata": {},
     "output_type": "execute_result"
    }
   ],
   "source": [
    "np_array == 3   # Tests if element is = 3"
   ]
  },
  {
   "cell_type": "code",
   "execution_count": null,
   "id": "eb72ee9c",
   "metadata": {},
   "outputs": [
    {
     "data": {
      "text/plain": [
       "array([False, False, False,  True,  True])"
      ]
     },
     "execution_count": 57,
     "metadata": {},
     "output_type": "execute_result"
    }
   ],
   "source": [
    "np_array > 3    # Tests if element is > 3"
   ]
  },
  {
   "cell_type": "markdown",
   "id": "9f650a76",
   "metadata": {},
   "source": [
    "### 2.8 Mathematics"
   ]
  },
  {
   "cell_type": "code",
   "execution_count": null,
   "id": "0187413a",
   "metadata": {},
   "outputs": [],
   "source": [
    "import numpy as np\n",
    "py_list = [1, 2, 3, 4, 5]\n",
    "np_array = np.array(py_list)        "
   ]
  },
  {
   "cell_type": "code",
   "execution_count": null,
   "id": "073534e3",
   "metadata": {},
   "outputs": [
    {
     "data": {
      "text/plain": [
       "15"
      ]
     },
     "execution_count": 23,
     "metadata": {},
     "output_type": "execute_result"
    },
    {
     "data": {
      "text/plain": [
       "5"
      ]
     },
     "execution_count": 23,
     "metadata": {},
     "output_type": "execute_result"
    },
    {
     "data": {
      "text/plain": [
       "1"
      ]
     },
     "execution_count": 23,
     "metadata": {},
     "output_type": "execute_result"
    },
    {
     "data": {
      "text/plain": [
       "15"
      ]
     },
     "execution_count": 23,
     "metadata": {},
     "output_type": "execute_result"
    },
    {
     "data": {
      "text/plain": [
       "5"
      ]
     },
     "execution_count": 23,
     "metadata": {},
     "output_type": "execute_result"
    },
    {
     "data": {
      "text/plain": [
       "1"
      ]
     },
     "execution_count": 23,
     "metadata": {},
     "output_type": "execute_result"
    },
    {
     "data": {
      "text/plain": [
       "3.0"
      ]
     },
     "execution_count": 23,
     "metadata": {},
     "output_type": "execute_result"
    },
    {
     "data": {
      "text/plain": [
       "1.4142135623730951"
      ]
     },
     "execution_count": 23,
     "metadata": {},
     "output_type": "execute_result"
    }
   ],
   "source": [
    "from IPython.core.interactiveshell import InteractiveShell\n",
    "InteractiveShell.ast_node_interactivity = \"all\"\n",
    "\n",
    "sum(py_list)     # sum() is a base Python function\n",
    "max(py_list)     # max() is a base Python function\n",
    "min(py_list)     # min() is a base Python function\n",
    "np_array.sum()\n",
    "np_array.max()\n",
    "np_array.min()\n",
    "np_array.mean()\n",
    "np_array.std()"
   ]
  },
  {
   "cell_type": "markdown",
   "id": "68050796",
   "metadata": {},
   "source": [
    "### Note to self\n",
    "For the lines\n",
    "\n",
    "```python \n",
    "from IPython.core.interactiveshell import InteractiveShell\n",
    "InteractiveShell.ast_node_interactivity = \"all\"\n",
    "```\n",
    "\n",
    "1. The first line imports the package *InteractiveShell* from the library *IPython.core.interactiveshell*\n",
    "2. *InteractiveShell* is a class in IPython that controls the behaviour of the shell.\n",
    "3. *ast_node_interactivity* is an attribute that determines how the outputs of multiple expressions in a single code cell are handled\n",
    "4. *\"all\"* is the value assigned to ast_node_interactivity. When set to 'all' it tells the shell to display the result of every expression in a code cell, not just the last one. Other possible values are: 'last' (default), 'none' and 'last_expr'\n",
    "\n",
    "last_expr outputs the last expression of code cell.\n",
    "\n",
    "Consider:\n",
    "```python\n",
    "a = 10\n",
    "a\n",
    "b = 20\n",
    "```\n",
    "With last, there is no output because the last line is an assignment statement, not an expression.\n",
    "With last_expr, the output is 'a' or '10' aka the last expression."
   ]
  }
 ],
 "metadata": {
  "kernelspec": {
   "display_name": "Python 3 (ipykernel)",
   "language": "python",
   "name": "python3"
  },
  "language_info": {
   "codemirror_mode": {
    "name": "ipython",
    "version": 3
   },
   "file_extension": ".py",
   "mimetype": "text/x-python",
   "name": "python",
   "nbconvert_exporter": "python",
   "pygments_lexer": "ipython3",
   "version": "3.12.2"
  },
  "toc": {
   "base_numbering": 1,
   "nav_menu": {},
   "number_sections": true,
   "sideBar": true,
   "skip_h1_title": false,
   "title_cell": "Table of Contents",
   "title_sidebar": "Contents",
   "toc_cell": false,
   "toc_position": {},
   "toc_section_display": true,
   "toc_window_display": false
  },
  "vscode": {
   "interpreter": {
    "hash": "31f2aee4e71d21fbe5cf8b01ff0e069b9275f58929596ceb00d14d90e3e16cd6"
   }
  }
 },
 "nbformat": 4,
 "nbformat_minor": 5
}
