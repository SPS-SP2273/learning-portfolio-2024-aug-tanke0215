{
 "cells": [
  {
   "attachments": {},
   "cell_type": "markdown",
   "id": "123456",
   "metadata": {},
   "source": [
    "<div style=\"text-align:left;font-size:2em\"><span style=\"font-weight:bolder;font-size:1.25em\">SP2273 | Learning Portfolio</span><br><span style=\"font-weight:bold;color:darkred\">Storing Data (Need)</span></div>"
   ]
  },
  {
   "attachments": {},
   "cell_type": "markdown",
   "id": "8d316f52",
   "metadata": {},
   "source": [
    "## 1 Subsetting: Indexing and Slicing\n",
    "- Subsetting means to 'select'\n",
    "- Indexing refers to select one element\n",
    "- Slicing refers to selecting a range of elements\n",
    "\n",
    "Often, we need to select a subset of the data in a list (the set). One way to do this is through indexing, i.e. list[0] takes the first element from the list 'list'. Another option is to select a range of elements. This is called slicing.\n",
    "\n",
    "### Lists & Arrays in 1D | Subsetting & Indexing\n",
    "To slice a list, we must specify two indices to indicate the start and end of the slice."
   ]
  },
  {
   "cell_type": "code",
   "execution_count": 22,
   "id": "7439929a",
   "metadata": {},
   "outputs": [
    {
     "ename": "NameError",
     "evalue": "name 'np' is not defined",
     "output_type": "error",
     "traceback": [
      "\u001b[0;31m---------------------------------------------------------------------------\u001b[0m",
      "\u001b[0;31mNameError\u001b[0m                                 Traceback (most recent call last)",
      "Cell \u001b[0;32mIn[22], line 6\u001b[0m\n\u001b[1;32m      2\u001b[0m InteractiveShell\u001b[38;5;241m.\u001b[39mast_node_interactivity \u001b[38;5;241m=\u001b[39m \u001b[38;5;124m\"\u001b[39m\u001b[38;5;124mall\u001b[39m\u001b[38;5;124m\"\u001b[39m\n\u001b[1;32m      4\u001b[0m py_list\u001b[38;5;241m=\u001b[39m[\u001b[38;5;124m\"\u001b[39m\u001b[38;5;124ma1\u001b[39m\u001b[38;5;124m\"\u001b[39m, \u001b[38;5;124m\"\u001b[39m\u001b[38;5;124mb2\u001b[39m\u001b[38;5;124m\"\u001b[39m, \u001b[38;5;124m\"\u001b[39m\u001b[38;5;124mc3\u001b[39m\u001b[38;5;124m\"\u001b[39m, \u001b[38;5;124m\"\u001b[39m\u001b[38;5;124md4\u001b[39m\u001b[38;5;124m\"\u001b[39m, \u001b[38;5;124m\"\u001b[39m\u001b[38;5;124me5\u001b[39m\u001b[38;5;124m\"\u001b[39m,\n\u001b[1;32m      5\u001b[0m          \u001b[38;5;124m\"\u001b[39m\u001b[38;5;124mf6\u001b[39m\u001b[38;5;124m\"\u001b[39m, \u001b[38;5;124m\"\u001b[39m\u001b[38;5;124mg7\u001b[39m\u001b[38;5;124m\"\u001b[39m, \u001b[38;5;124m\"\u001b[39m\u001b[38;5;124mh8\u001b[39m\u001b[38;5;124m\"\u001b[39m, \u001b[38;5;124m\"\u001b[39m\u001b[38;5;124mi9\u001b[39m\u001b[38;5;124m\"\u001b[39m, \u001b[38;5;124m\"\u001b[39m\u001b[38;5;124mj10\u001b[39m\u001b[38;5;124m\"\u001b[39m]\n\u001b[0;32m----> 6\u001b[0m np_array\u001b[38;5;241m=\u001b[39mnp\u001b[38;5;241m.\u001b[39marray(py_list)\n\u001b[1;32m      8\u001b[0m \u001b[38;5;66;03m# Same syntax for both lists and arrays\u001b[39;00m\n\u001b[1;32m      9\u001b[0m x \u001b[38;5;241m=\u001b[39m py_list  \n",
      "\u001b[0;31mNameError\u001b[0m: name 'np' is not defined"
     ]
    }
   ],
   "source": [
    "from IPython.core.interactiveshell import InteractiveShell\n",
    "InteractiveShell.ast_node_interactivity = \"all\"\n",
    "\n",
    "py_list=[\"a1\", \"b2\", \"c3\", \"d4\", \"e5\",\n",
    "         \"f6\", \"g7\", \"h8\", \"i9\", \"j10\"]\n",
    "np_array=np.array(py_list)\n",
    "\n",
    "# Same syntax for both lists and arrays\n",
    "x = py_list  \n",
    "y = np_array\n",
    "\n",
    "x[0:3] # Index 1 to 2\n",
    "x[1:6] # Index 1 to 5\n",
    "x[1:6:2] # Index 1 to 5, skips every 2nd element\n",
    "x[5:] # Index 5 to the end\n",
    "x[:5] # Index 0 to 5\n",
    "x[5:2:-1] # Index 5 to 3, in reverse\n",
    "x[::-1] # Reverses the list\n",
    "\n"
   ]
  },
  {
   "cell_type": "markdown",
   "id": "7932cb28",
   "metadata": {},
   "source": [
    "## 1.2 Arraus only | Subsetting by masking\n",
    "Using NumPy arrays, we can select elements that meet a certain condition."
   ]
  },
  {
   "cell_type": "code",
   "execution_count": null,
   "id": "0c889b0a",
   "metadata": {},
   "outputs": [
    {
     "data": {
      "text/plain": [
       "array([False, False, False,  True,  True,  True,  True,  True,  True,\n",
       "        True])"
      ]
     },
     "execution_count": 115,
     "metadata": {},
     "output_type": "execute_result"
    }
   ],
   "source": [
    "np_array = np.array([1, 2, 3, 4, 5, 6, 7, 8, 9, 10])\n",
    "my_mask = np_array > 3 # Checks which elements are greater than 3\n",
    "my_mask"
   ]
  },
  {
   "cell_type": "markdown",
   "id": "95b0e4a5",
   "metadata": {},
   "source": [
    "We can ask NumPy to show only those that are True i.e. greater than 3 by"
   ]
  },
  {
   "cell_type": "code",
   "execution_count": null,
   "id": "0c35bed3",
   "metadata": {},
   "outputs": [
    {
     "data": {
      "text/plain": [
       "array([ 4,  5,  6,  7,  8,  9, 10])"
      ]
     },
     "execution_count": 116,
     "metadata": {},
     "output_type": "execute_result"
    }
   ],
   "source": [
    "np_array[my_mask]"
   ]
  },
  {
   "cell_type": "markdown",
   "id": "208e57e4",
   "metadata": {},
   "source": [
    "To invert our mask, i.e. find elements less than 3, we can use '~', the Bitwise Not operator."
   ]
  },
  {
   "cell_type": "code",
   "execution_count": null,
   "id": "9912e2ff",
   "metadata": {},
   "outputs": [
    {
     "data": {
      "text/plain": [
       "array([1, 2, 3])"
      ]
     },
     "execution_count": 117,
     "metadata": {},
     "output_type": "execute_result"
    },
    {
     "data": {
      "text/plain": [
       "array([1, 2, 3])"
      ]
     },
     "execution_count": 117,
     "metadata": {},
     "output_type": "execute_result"
    }
   ],
   "source": [
    "np_array[~(np_array > 3)]\n",
    "np_array[(np_array <= 3)]   "
   ]
  },
  {
   "cell_type": "markdown",
   "id": "43586d05",
   "metadata": {},
   "source": [
    "To combine two masks together, we can use '&', the Bitwise AND operator. This will give the elements that satisfy all of the conditions listed."
   ]
  },
  {
   "cell_type": "code",
   "execution_count": null,
   "id": "db05c906",
   "metadata": {},
   "outputs": [
    {
     "data": {
      "text/plain": [
       "array([4, 5, 6, 7])"
      ]
     },
     "execution_count": 118,
     "metadata": {},
     "output_type": "execute_result"
    }
   ],
   "source": [
    "np_array[(np_array > 3) & (np_array < 8)]"
   ]
  },
  {
   "cell_type": "markdown",
   "id": "165ae6ac",
   "metadata": {},
   "source": [
    "We can also find the elements that satisfy none of the conditions listed. We do this through '|', the Bitwise OR operator."
   ]
  },
  {
   "cell_type": "code",
   "execution_count": null,
   "id": "a149e1ea",
   "metadata": {},
   "outputs": [
    {
     "data": {
      "text/plain": [
       "array([ 1,  2,  9, 10])"
      ]
     },
     "execution_count": 119,
     "metadata": {},
     "output_type": "execute_result"
    }
   ],
   "source": [
    "np_array[(np_array < 3) | (np_array > 8)]"
   ]
  },
  {
   "cell_type": "markdown",
   "id": "c0fce7fb",
   "metadata": {},
   "source": [
    "## 1.3 Lists & Arrays in 2D | Indexing & Slicing"
   ]
  },
  {
   "cell_type": "code",
   "execution_count": null,
   "id": "d13ae6ac",
   "metadata": {},
   "outputs": [],
   "source": [
    "py_list_2d = [[1, \"A\"], [2, \"B\"], [3, \"C\"], [4, \"D\"],\n",
    "              [5, \"E\"], [6, \"F\"], [7, \"G\"], [8, \"H\"],\n",
    "              [9, \"I\"], [10, \"J\"]]\n",
    "\n",
    "np_array_2d = np.array(py_list_2d)"
   ]
  },
  {
   "cell_type": "code",
   "execution_count": null,
   "id": "29efbdbb",
   "metadata": {},
   "outputs": [
    {
     "data": {
      "text/plain": [
       "[4, 'D']"
      ]
     },
     "execution_count": 121,
     "metadata": {},
     "output_type": "execute_result"
    },
    {
     "data": {
      "text/plain": [
       "array(['4', 'D'], dtype='<U21')"
      ]
     },
     "execution_count": 121,
     "metadata": {},
     "output_type": "execute_result"
    }
   ],
   "source": [
    "py_list_2d[3]\n",
    "np_array_2d[3]"
   ]
  },
  {
   "cell_type": "markdown",
   "id": "c07e1bdc",
   "metadata": {},
   "source": [
    "To select an element in a 2D list, two square brackets i.e. [a][b] must be used. \\\n",
    "To select an element in a 2D array, one square bracket, with a comma [a,b] is used instead."
   ]
  },
  {
   "cell_type": "code",
   "execution_count": null,
   "id": "67dfef02",
   "metadata": {},
   "outputs": [
    {
     "data": {
      "text/plain": [
       "4"
      ]
     },
     "execution_count": 122,
     "metadata": {},
     "output_type": "execute_result"
    },
    {
     "data": {
      "text/plain": [
       "'4'"
      ]
     },
     "execution_count": 122,
     "metadata": {},
     "output_type": "execute_result"
    }
   ],
   "source": [
    "py_list_2d[3][0]\n",
    "np_array_2d[3, 0] "
   ]
  },
  {
   "cell_type": "code",
   "execution_count": null,
   "metadata": {},
   "outputs": [
    {
     "data": {
      "text/plain": [
       "[[1, 'A'], [2, 'B'], [3, 'C']]"
      ]
     },
     "execution_count": 123,
     "metadata": {},
     "output_type": "execute_result"
    },
    {
     "data": {
      "text/plain": [
       "array([['1', 'A'],\n",
       "       ['2', 'B'],\n",
       "       ['3', 'C']], dtype='<U21')"
      ]
     },
     "execution_count": 123,
     "metadata": {},
     "output_type": "execute_result"
    }
   ],
   "source": [
    "py_list_2d[:3]\n",
    "np_array_2d[:3]"
   ]
  },
  {
   "cell_type": "markdown",
   "id": "c39b697b",
   "metadata": {},
   "source": [
    "```python\n",
    "list[:a][b]\n",
    "```\n",
    "The first square bracket slices the list. In the following examples, we have selected the first a elements e.g. [:2] includes the 1st and 2nd elements. \\\n",
    "The second square bracket selects the b-th element within the slice.\n",
    "\n",
    "To display all elements within the list/array, just write [:] in the first bracket.\n"
   ]
  },
  {
   "cell_type": "code",
   "execution_count": null,
   "id": "87450a48",
   "metadata": {},
   "outputs": [
    {
     "data": {
      "text/plain": [
       "[1, 'A']"
      ]
     },
     "execution_count": 126,
     "metadata": {},
     "output_type": "execute_result"
    },
    {
     "name": "stdout",
     "output_type": "stream",
     "text": [
      "---\n"
     ]
    },
    {
     "data": {
      "text/plain": [
       "[2, 'B']"
      ]
     },
     "execution_count": 126,
     "metadata": {},
     "output_type": "execute_result"
    },
    {
     "data": {
      "text/plain": [
       "[3, 'C']"
      ]
     },
     "execution_count": 126,
     "metadata": {},
     "output_type": "execute_result"
    },
    {
     "name": "stdout",
     "output_type": "stream",
     "text": [
      "---\n"
     ]
    },
    {
     "data": {
      "text/plain": [
       "[4, 'D']"
      ]
     },
     "execution_count": 126,
     "metadata": {},
     "output_type": "execute_result"
    },
    {
     "data": {
      "text/plain": [
       "[5, 'E']"
      ]
     },
     "execution_count": 126,
     "metadata": {},
     "output_type": "execute_result"
    },
    {
     "name": "stdout",
     "output_type": "stream",
     "text": [
      "---\n"
     ]
    },
    {
     "data": {
      "text/plain": [
       "[4, 'D']"
      ]
     },
     "execution_count": 126,
     "metadata": {},
     "output_type": "execute_result"
    },
    {
     "data": {
      "text/plain": [
       "array(['4', '5', '6'], dtype='<U21')"
      ]
     },
     "execution_count": 126,
     "metadata": {},
     "output_type": "execute_result"
    },
    {
     "data": {
      "text/plain": [
       "array(['1', '2', '3', '4', '5', '6', '7', '8', '9', '10'], dtype='<U21')"
      ]
     },
     "execution_count": 126,
     "metadata": {},
     "output_type": "execute_result"
    }
   ],
   "source": [
    "py_list_2d[:2][0]   # Within the first two elements, select the 1st element\n",
    "print(\"---\")\n",
    "py_list_2d[:2][1]   # Within the first two elements, select the 2nd element \n",
    "py_list_2d[:3][2]   # Within the first three elements, select the 3rd element\n",
    "print(\"---\")\n",
    "py_list_2d[3:6][0]  # From element 4 to 5, select the 1st element\n",
    "py_list_2d[3:6][1]  # From element 4 to select the 2nd element\n",
    "print(\"---\")\n",
    "py_list_2d[3:6][0]\n",
    "np_array_2d[3:6, 0]\n",
    "np_array_2d[:, 0]"
   ]
  },
  {
   "cell_type": "markdown",
   "id": "ceec2b29",
   "metadata": {},
   "source": [
    "## 1.4 Growing lists\n",
    "### Example 1\n",
    "    Creating a larger list from a smaller one\n",
    "```python\n",
    "x=[1, 2]*5 # replicates the elements 1,2 in the array 5 times.\n",
    "x\n",
    "```\n",
    "```python\n",
    "[1, 2, 1, 2, 1, 2, 1, 2, 1, 2]\n",
    "```\n",
    "### Example 2 \n",
    "    Three ways to grow a list by appending one element at a time.\n",
    "```python\n",
    "x=[1]\n",
    "x= x + [2]\n",
    "x= x + [3]\n",
    "x= x + [4]\n",
    "\n",
    "x=[1]\n",
    "x+= [2]\n",
    "x+= [3]\n",
    "x+= [4]\n",
    "\n",
    "x=[1]\n",
    "x.append(2)\n",
    "x.append(3)\n",
    "x.append(4)\n",
    "```\n",
    "All of these forms are equivalent, and give the same output:\n",
    "```python\n",
    "[1, 2, 3, 4]\n",
    "```\n",
    "### Example 3\n",
    "    Here are three ways of incorporating multiple elements.\n",
    "```python\n",
    "x = [1, 2, 3]\n",
    "x += [4, 5, 6]\n",
    "```\n",
    "```python\n",
    "x=[1, 2, 3]\n",
    "x.extend([4, 5, 6])\n",
    "```\n",
    "Both of these give you the same output:\n",
    "```python\n",
    "[1, 2, 3, 4]\n",
    "```\n",
    "If you want to append a list onto another list, i.e. making the whole of list A, an element of list B:\n",
    "```python\n",
    "x=[1, 2, 3]\n",
    "x.append([4, 5, 6])\n",
    "```"
   ]
  },
  {
   "cell_type": "markdown",
   "id": "73cec85f",
   "metadata": {},
   "source": [
    "## 1.5 Tuples\n",
    "Tuples are similar to lists, but use round brackets instead of square brackets. Tuples also cannot be changed after creation (i.e. they are immutable)."
   ]
  },
  {
   "cell_type": "code",
   "execution_count": null,
   "id": "5f012b71",
   "metadata": {},
   "outputs": [
    {
     "name": "stdout",
     "output_type": "stream",
     "text": [
      "1\n"
     ]
    },
    {
     "ename": "TypeError",
     "evalue": "'tuple' object does not support item assignment",
     "output_type": "error",
     "traceback": [
      "\u001b[0;31m---------------------------------------------------------------------------\u001b[0m",
      "\u001b[0;31mTypeError\u001b[0m                                 Traceback (most recent call last)",
      "Cell \u001b[0;32mIn[20], line 4\u001b[0m\n\u001b[1;32m      2\u001b[0m \u001b[38;5;28mprint\u001b[39m(a[\u001b[38;5;241m0\u001b[39m])     \u001b[38;5;66;03m# Access data\u001b[39;00m\n\u001b[1;32m      3\u001b[0m \u001b[38;5;66;03m# The following will NOT work\u001b[39;00m\n\u001b[0;32m----> 4\u001b[0m a[\u001b[38;5;241m0\u001b[39m]\u001b[38;5;241m=\u001b[39m\u001b[38;5;241m-\u001b[39m\u001b[38;5;241m1\u001b[39m\n\u001b[1;32m      5\u001b[0m a[\u001b[38;5;241m0\u001b[39m]\u001b[38;5;241m+\u001b[39m\u001b[38;5;241m=\u001b[39m [\u001b[38;5;241m10\u001b[39m]\n",
      "\u001b[0;31mTypeError\u001b[0m: 'tuple' object does not support item assignment"
     ]
    }
   ],
   "source": [
    "a=(1, 2, 3)     # Define the tuple\n",
    "print(a[0])     # Access data\n",
    "# The following will NOT work\n",
    "a[0]=-1\n",
    "a[0]+= [10]"
   ]
  },
  {
   "cell_type": "markdown",
   "id": "655e42fb",
   "metadata": {},
   "source": [
    "## 1.6 Be VERY careful when copying\n",
    "You should be particularly mindful when making copies of lists and arrays as some unexpected errors may pop up due to the quirks of Python. \n",
    "\n",
    "For example, if you want to copy a list, do not do the following:\n",
    "```python\n",
    "x=[1, 2, 3]\n",
    "y=x           # DON'T do this!\n",
    "z=x           # DON'T do this!\n",
    "```\n",
    "Do this instead:\n",
    "```python\n",
    "x=[1, 2, 3]\n",
    "y=x.copy()\n",
    "z=x.copy()\n",
    "```"
   ]
  }
 ],
 "metadata": {
  "kernelspec": {
   "display_name": "Python 3 (ipykernel)",
   "language": "python",
   "name": "python3"
  },
  "language_info": {
   "codemirror_mode": {
    "name": "ipython",
    "version": 3
   },
   "file_extension": ".py",
   "mimetype": "text/x-python",
   "name": "python",
   "nbconvert_exporter": "python",
   "pygments_lexer": "ipython3",
   "version": "3.12.2"
  },
  "toc": {
   "base_numbering": 1,
   "nav_menu": {},
   "number_sections": true,
   "sideBar": true,
   "skip_h1_title": false,
   "title_cell": "Table of Contents",
   "title_sidebar": "Contents",
   "toc_cell": false,
   "toc_position": {},
   "toc_section_display": true,
   "toc_window_display": false
  },
  "vscode": {
   "interpreter": {
    "hash": "31f2aee4e71d21fbe5cf8b01ff0e069b9275f58929596ceb00d14d90e3e16cd6"
   }
  }
 },
 "nbformat": 4,
 "nbformat_minor": 5
}
