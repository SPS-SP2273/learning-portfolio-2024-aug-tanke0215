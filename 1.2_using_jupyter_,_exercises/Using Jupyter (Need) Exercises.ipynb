{
 "cells": [
  {
   "cell_type": "markdown",
   "id": "69ea6417",
   "metadata": {},
   "source": [
    "<div style=\"text-align:left;font-size:2em\"><span style=\"font-weight:bolder;font-size:1.25em\">SP2273 | Learning Portfolio</span></div>"
   ]
  },
  {
   "cell_type": "markdown",
   "id": "85b7879c-599d-43bf-9e22-0a703051e3c0",
   "metadata": {},
   "source": [
    "## Using Jupyter (Need)\n",
    "### Exercise 3\n",
    "# 1 Quadratic Equations\n",
    "## Introduction\n",
    "![](https://upload.wikimedia.org/wikipedia/commons/thumb/f/f8/Polynomialdeg2.svg/300px-Polynomialdeg2.svg.png) \\\n",
    "*Image from the [Wikipedia page on Quadratic equations](https://en.wikipedia.org/wiki/Quadratic_equation)* \\\n",
    "\\\n",
    "The general form of a quadratic equation is:\n",
    "$$ax^2 + bx + c = 0$$ \n",
    "## Solutions\n",
    "Provided that $a \\neq 0$, we can use an elementary algebraic method called [completing the square](https://en.wikipedia.org/wiki/Completing_the_square) to show that a quadratic equation has the following solution:\n",
    "$$ x = \\frac{-b \\pm \\sqrt{b^2 - 4ac}}{2a}$$\n",
    "\n",
    "## Discriminant\n",
    "The quantity $\\Delta = b^2 - 4ac$ is called the **discriminant** of the equation and decides the nature of its solutions. The table below shows the various possibilities.\n",
    "|     **Discriminant**     |               **Roots**              |\n",
    "|:------------------------:|:------------------------------------:|\n",
    "| $\\Delta = b^2 - 4ac = 0$ | A single solution of $-b/(2a)$       |\n",
    "| $\\Delta = b^2 - 4ac > 0$ | Two distinct solutions               |\n",
    "| $\\Delta = b^2 - 4ac < 0$ | No real solutions; both are complex. |\n",
    "\n",
    "### Exercise 2\n",
    "1. What is a Git repository? \\\n",
    "A Git repository is a storage space for you to store files for your project.\n",
    "\n",
    "1. Git keeps tracks of ____BLANK____ in the files in our repository. \\\n",
    "Commits.\n",
    "\n",
    "1. What is a commit? \\\n",
    "Records changes to your files in your branch and adds a description for these changes.\n",
    "\n",
    "1. What is a push? \\\n",
    "Adds your changes to GitHub.\n",
    "\n",
    "1. What is a pull? \\\n",
    "Removes your changes from GitHub.\n",
    "\n",
    "1. What is the difference between GitHub and GitHub Desktop? \\\n",
    "GitHub allows you to see your own and other repositories. GitHub Desktop allows you to make commit, push and pull requests.\n",
    "\n",
    "### Exercise 3\n",
    "$$\\mu = \\frac{1}{n}\\sum^n_{i=1}x_i$$\n",
    "$$\\sigma = \\sqrt{\\frac{1}{n}\\sum^n_{i=1}(x_i - \\mu)^2)}$$\n",
    "$$ r = \\frac{\\sum^n_{i=1}(x_i - \\mu_X)(y_i - \\mu_Y)}{\\sqrt{\\sum^n_{i=1}(x_i - \\mu_X)^2\\sum^n_{i=1}(y_i - \\mu_Y)^2}}$$"
   ]
  }
 ],
 "metadata": {
  "kernelspec": {
   "display_name": "Python 3 (ipykernel)",
   "language": "python",
   "name": "python3"
  },
  "language_info": {
   "codemirror_mode": {
    "name": "ipython",
    "version": 3
   },
   "file_extension": ".py",
   "mimetype": "text/x-python",
   "name": "python",
   "nbconvert_exporter": "python",
   "pygments_lexer": "ipython3",
   "version": "3.12.3"
  }
 },
 "nbformat": 4,
 "nbformat_minor": 5
}
