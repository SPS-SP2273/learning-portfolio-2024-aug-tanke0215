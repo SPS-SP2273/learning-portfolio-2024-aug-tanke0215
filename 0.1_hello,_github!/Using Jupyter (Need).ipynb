{
 "cells": [
  {
   "cell_type": "markdown",
   "id": "85b7879c-599d-43bf-9e22-0a703051e3c0",
   "metadata": {},
   "source": [
    "## Using Jupyter (Need)\n",
    "### Exercise 2\n",
    "1. What is a Git repository? \\\n",
    "A Git repository is\n",
    "\n",
    "1. Git keeps tracks of ____BLANK____ in the files in our repository. \\\n",
    "Commits\n",
    "\n",
    "1. What is a commit? \\\n",
    "Records changes to your files in your branch and adds a description for these changes.\n",
    "\n",
    "1. What is a push? \\\n",
    "Adds your changes to GitHub.\n",
    "\n",
    "1. What is a pull? \\\n",
    "Removes your changes from GitHub\n",
    "\n",
    "1. What is the difference between GitHub and GitHub Desktop? \\\n",
    "GitHub allows you to see your own and other repositories. GitHub Desktop allows you to make commit, push and pull requests.\n",
    "\n",
    "### Exercise 3\n",
    "$$\\mu = \\frac{1}{n}\\sum^n_{i=1}x_i$$\n",
    "$$\\sigma = \\sqrt{\\frac{1}{n}\\sum^n_{i=1}(x_i - \\mu)^2)}$$\n",
    "$$ r = \\frac{\\sum^n_{i=1}(x_i - \\mu_X)(y_i - \\mu_Y)}{\\sqrt{\\sum^n_{i=1}(x_i - \\mu_X)^2\\sum^n_{i=1}(y_i - \\mu_Y)^2}}$$"
   ]
  },
  {
   "cell_type": "markdown",
   "id": "ca7d46d3-8fc1-4a77-8a7e-20cfd8804df9",
   "metadata": {},
   "source": [
    "## Using Jupyter (Good)\n",
    "### Exercise 1 (Learning to interrupt)  "
   ]
  },
  {
   "cell_type": "code",
   "execution_count": null,
   "id": "363fdee2-846b-4dd2-9b70-c6d10e58aca7",
   "metadata": {},
   "outputs": [],
   "source": [
    "while True:\n",
    "    print('*', end='')"
   ]
  },
  {
   "cell_type": "markdown",
   "id": "128af3ba-bef2-4ffa-abfb-8eadd8a08c42",
   "metadata": {},
   "source": [
    "### Exercise 2 (Resetting & Restarting the Kernal)  "
   ]
  },
  {
   "cell_type": "code",
   "execution_count": 2,
   "id": "ff3a3002-9599-46bb-b0e4-deea6e9d7c88",
   "metadata": {},
   "outputs": [],
   "source": [
    "print = 'PRINT'"
   ]
  },
  {
   "cell_type": "code",
   "execution_count": 3,
   "id": "e2cd558c-6e7d-4f25-99e1-daa7e0606c1d",
   "metadata": {},
   "outputs": [
    {
     "ename": "TypeError",
     "evalue": "'str' object is not callable",
     "output_type": "error",
     "traceback": [
      "\u001b[0;31m---------------------------------------------------------------------------\u001b[0m",
      "\u001b[0;31mTypeError\u001b[0m                                 Traceback (most recent call last)",
      "Cell \u001b[0;32mIn[3], line 1\u001b[0m\n\u001b[0;32m----> 1\u001b[0m \u001b[38;5;28mprint\u001b[39m(\u001b[38;5;124m'\u001b[39m\u001b[38;5;124mHello World\u001b[39m\u001b[38;5;124m'\u001b[39m)\n",
      "\u001b[0;31mTypeError\u001b[0m: 'str' object is not callable"
     ]
    }
   ],
   "source": [
    "print('Hello World')"
   ]
  },
  {
   "cell_type": "code",
   "execution_count": 1,
   "id": "0a524a99-d73f-4b9a-bd42-d1dcef15bb55",
   "metadata": {},
   "outputs": [
    {
     "name": "stdout",
     "output_type": "stream",
     "text": [
      "Hello World\n"
     ]
    }
   ],
   "source": [
    "print('Hello World')"
   ]
  },
  {
   "cell_type": "markdown",
   "id": "d0651b2b-2a18-47e6-a6f6-4922810ca76d",
   "metadata": {},
   "source": [
    "### Exercise 3 (Timing Stuff)  "
   ]
  },
  {
   "cell_type": "code",
   "execution_count": 2,
   "id": "49a4b38d-1de7-4bb9-9063-7e6636d3a0fb",
   "metadata": {},
   "outputs": [
    {
     "name": "stdout",
     "output_type": "stream",
     "text": [
      "[0, 1, 4, 9, 16, 25, 36, 49, 64, 81]\n"
     ]
    }
   ],
   "source": [
    "squares = [i**2 for i in range(10)]\n",
    "print(squares)"
   ]
  },
  {
   "cell_type": "code",
   "execution_count": 5,
   "id": "04d1c3e8-e51f-4afd-863a-b004a9a47333",
   "metadata": {},
   "outputs": [
    {
     "name": "stdout",
     "output_type": "stream",
     "text": [
      "[0, 1, 4, 9, 16, 25, 36, 49, 64, 81]\n"
     ]
    }
   ],
   "source": [
    "squares = list()\n",
    "for i in range(10):\n",
    "    squares.append(i**2)\n",
    "print(squares)"
   ]
  },
  {
   "cell_type": "code",
   "execution_count": 14,
   "id": "43fce289-3d88-4699-889f-c911ec872d22",
   "metadata": {},
   "outputs": [
    {
     "name": "stdout",
     "output_type": "stream",
     "text": [
      "530 ns ± 10.1 ns per loop (mean ± std. dev. of 7 runs, 1,000,000 loops each)\n",
      "[0, 1, 4, 9, 16, 25, 36, 49, 64, 81, 0, 1, 4, 9, 16, 25, 36, 49, 64, 81]\n"
     ]
    }
   ],
   "source": [
    "%timeit squares = [i**2 for i in range(10)]\n",
    "print(squares)"
   ]
  },
  {
   "cell_type": "code",
   "execution_count": 15,
   "id": "b3171d35-8dc2-4159-92e7-6f9a89375672",
   "metadata": {},
   "outputs": [
    {
     "name": "stdout",
     "output_type": "stream",
     "text": [
      "55.9 ns ± 0.898 ns per loop (mean ± std. dev. of 7 runs, 10,000,000 loops each)\n",
      "[0, 1, 4, 9, 16, 25, 36, 49, 64, 81, 0, 1, 4, 9, 16, 25, 36, 49, 64, 81, 0, 1, 4, 9, 16, 25, 36, 49, 64, 81]\n"
     ]
    }
   ],
   "source": [
    "%timeit squares = list()\n",
    "for i in range(10):\n",
    "    squares.append(i**2)\n",
    "print(squares)"
   ]
  },
  {
   "cell_type": "code",
   "execution_count": null,
   "id": "67c0ccde-f7b6-47a5-b7a2-9d6cf9d1b0d3",
   "metadata": {},
   "outputs": [],
   "source": []
  }
 ],
 "metadata": {
  "kernelspec": {
   "display_name": "Python 3 (ipykernel)",
   "language": "python",
   "name": "python3"
  },
  "language_info": {
   "codemirror_mode": {
    "name": "ipython",
    "version": 3
   },
   "file_extension": ".py",
   "mimetype": "text/x-python",
   "name": "python",
   "nbconvert_exporter": "python",
   "pygments_lexer": "ipython3",
   "version": "3.12.2"
  }
 },
 "nbformat": 4,
 "nbformat_minor": 5
}
